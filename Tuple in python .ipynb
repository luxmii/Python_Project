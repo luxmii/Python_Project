{
 "cells": [
  {
   "cell_type": "markdown",
   "id": "07eeb9e8",
   "metadata": {},
   "source": [
    "# Tuple"
   ]
  },
  {
   "cell_type": "code",
   "execution_count": null,
   "id": "860a1e82",
   "metadata": {},
   "outputs": [],
   "source": [
    "# -Indexing \n",
    "# -ordered \n",
    "# -multiple and duplicate data \n",
    "# -immutable (Main point)"
   ]
  },
  {
   "cell_type": "code",
   "execution_count": 2,
   "id": "fab79892",
   "metadata": {},
   "outputs": [
    {
     "name": "stdout",
     "output_type": "stream",
     "text": [
      "<class 'tuple'>\n",
      "(1, 2, 3, 4, 5, 9, 7, 8, 9)\n"
     ]
    }
   ],
   "source": [
    "# let us suppose \n",
    "a=(1,2,3,4,5,9,7,8,9)\n",
    "print(type(a))\n",
    "print(a)"
   ]
  },
  {
   "cell_type": "code",
   "execution_count": 6,
   "id": "73a39d5b",
   "metadata": {},
   "outputs": [
    {
     "name": "stdout",
     "output_type": "stream",
     "text": [
      "Apple\n",
      "('Apple', 'Ball', 'Cat', 'Fish', 'Goat')\n",
      "('Apple', 'Cat', 'Goat')\n"
     ]
    }
   ],
   "source": [
    "a=(\"Apple\",\"Ball\",\"Cat\", \"Fish\", \"Goat\")\n",
    "print(a[0])\n",
    "print(a[0:5])\n",
    "print(a[0:6:2])"
   ]
  },
  {
   "cell_type": "code",
   "execution_count": null,
   "id": "09ec7722",
   "metadata": {},
   "outputs": [],
   "source": [
    "# static data ko lagi, use hunxa tuple , string use pani hunxa \n",
    "# dynamic kaam ko lagi dictionary, lists\n"
   ]
  },
  {
   "cell_type": "code",
   "execution_count": null,
   "id": "b49dd759",
   "metadata": {},
   "outputs": [],
   "source": [
    "gender=('Male', 'Female', 'Other')"
   ]
  },
  {
   "cell_type": "code",
   "execution_count": 13,
   "id": "518d9f74",
   "metadata": {},
   "outputs": [
    {
     "name": "stdout",
     "output_type": "stream",
     "text": [
      "(1,)\n",
      "<class 'tuple'>\n"
     ]
    }
   ],
   "source": [
    "# main confusion hune kura\n",
    "a=(1,)\n",
    "print(a)\n",
    "# a=tuple()\n",
    "print(type(a))"
   ]
  },
  {
   "cell_type": "code",
   "execution_count": 16,
   "id": "e47e1730",
   "metadata": {},
   "outputs": [
    {
     "name": "stdout",
     "output_type": "stream",
     "text": [
      "<class 'tuple'>\n"
     ]
    }
   ],
   "source": [
    "# string data\n",
    "a=(\"Apple\",)\n",
    "print(type(a))"
   ]
  },
  {
   "cell_type": "code",
   "execution_count": null,
   "id": "be869f38",
   "metadata": {},
   "outputs": [],
   "source": [
    "# append(), insert(), extend(), no update. sort() [tuple ma use hudaina]\n",
    "# no delete(), remove(), pop() ,[tuple ma use hudaina]\n",
    "# ek choti create garisake paxi, values ma change garna paudaina\n",
    "# tuples aru vanda rarely use hunxa ,list dict, jati use hudaina \n",
    "# dherai varities hudaina, ekdum choto data type ho "
   ]
  },
  {
   "cell_type": "code",
   "execution_count": null,
   "id": "17208424",
   "metadata": {},
   "outputs": [],
   "source": [
    "# how to create tuple. \n",
    "# one and only way, concatination\n",
    "# tuples are predefined\n",
    "# tuples haru light weight hunxa\n",
    "# user le kunai certain value change garna sakdaina\n"
   ]
  },
  {
   "cell_type": "code",
   "execution_count": 18,
   "id": "7ec65b08",
   "metadata": {},
   "outputs": [
    {
     "name": "stdout",
     "output_type": "stream",
     "text": [
      "Enter value= 5\n",
      "Enter x = 125\n",
      "Enter x = 142\n",
      "Enter x = 548\n",
      "Enter x = 742\n",
      "Enter x = 215\n",
      "(125, 142, 548, 742, 215)\n"
     ]
    }
   ],
   "source": [
    "t=()\n",
    "n=int(input('Enter value= '))\n",
    "for i in range(n):\n",
    "    x=int(input('Enter x = '))\n",
    "    t=t+(x, )\n",
    "print(t)"
   ]
  },
  {
   "cell_type": "code",
   "execution_count": 19,
   "id": "d3179077",
   "metadata": {},
   "outputs": [
    {
     "name": "stdout",
     "output_type": "stream",
     "text": [
      "125\n",
      "742\n",
      "1772\n"
     ]
    }
   ],
   "source": [
    "# let us suppose \n",
    "a=(125, 142, 548, 742, 215)\n",
    "print(min(a))\n",
    "print(max(a))\n",
    "print(sum(a))"
   ]
  },
  {
   "cell_type": "code",
   "execution_count": 20,
   "id": "7de52f64",
   "metadata": {},
   "outputs": [
    {
     "data": {
      "text/plain": [
       "[125, 142, 548, 742, 215]"
      ]
     },
     "execution_count": 20,
     "metadata": {},
     "output_type": "execute_result"
    }
   ],
   "source": [
    "# change pani garna milxa\n",
    "# tuple lai list ma change garna milxa, ani value change garna milxa \n",
    "\n",
    "a= (125, 142, 548, 742, 215)\n",
    "b=list(a)\n",
    "b"
   ]
  },
  {
   "cell_type": "code",
   "execution_count": 21,
   "id": "6617ddfc",
   "metadata": {},
   "outputs": [
    {
     "name": "stdout",
     "output_type": "stream",
     "text": [
      "(142, 548, 742, 215)\n"
     ]
    }
   ],
   "source": [
    "(125, 142, 548, 742, 215)\n",
    "a=list(a)\n",
    "del b[0]\n",
    "a=tuple(b)\n",
    "print(a)"
   ]
  },
  {
   "cell_type": "code",
   "execution_count": 22,
   "id": "49f08e18",
   "metadata": {},
   "outputs": [
    {
     "data": {
      "text/plain": [
       "[(1, 2, 3), (4, 5, 6), (7, 8, 9)]"
      ]
     },
     "execution_count": 22,
     "metadata": {},
     "output_type": "execute_result"
    }
   ],
   "source": [
    "# tuple inside list\n",
    "l = [(1,2,3),\n",
    "    (4,5,6),\n",
    "    (7,8,9)]\n",
    "l"
   ]
  },
  {
   "cell_type": "code",
   "execution_count": 23,
   "id": "75e2378c",
   "metadata": {},
   "outputs": [
    {
     "data": {
      "text/plain": [
       "([1, 2, 3], [4, 5, 6], [7, 8, 9])"
      ]
     },
     "execution_count": 23,
     "metadata": {},
     "output_type": "execute_result"
    }
   ],
   "source": [
    "# list inside tuple \n",
    "t=([1,2,3],\n",
    "  [4,5,6],\n",
    "  [7,8,9])\n",
    "t"
   ]
  },
  {
   "cell_type": "code",
   "execution_count": 24,
   "id": "a3f3779b",
   "metadata": {},
   "outputs": [
    {
     "data": {
      "text/plain": [
       "((1, 2, 3), (4, 5, 6), (7, 8, 9))"
      ]
     },
     "execution_count": 24,
     "metadata": {},
     "output_type": "execute_result"
    }
   ],
   "source": [
    "# tuple inside tuple \n",
    "t=((1,2,3),\n",
    "   (4,5,6),\n",
    "   (7,8,9))\n",
    "t"
   ]
  },
  {
   "cell_type": "code",
   "execution_count": 28,
   "id": "5eccb225",
   "metadata": {},
   "outputs": [
    {
     "data": {
      "text/plain": [
       "[[1, 2, 3], [4, 5, 6], [7, 8, 9]]"
      ]
     },
     "execution_count": 28,
     "metadata": {},
     "output_type": "execute_result"
    }
   ],
   "source": [
    "data=[]\n",
    "l = list(t)\n",
    "for i in l:\n",
    "    data.append(list(i))\n",
    "data"
   ]
  },
  {
   "cell_type": "code",
   "execution_count": null,
   "id": "d57454a7",
   "metadata": {},
   "outputs": [],
   "source": [
    "# Wap to convert list inside list to tuple inside tuple\n"
   ]
  },
  {
   "cell_type": "code",
   "execution_count": 4,
   "id": "f1ab9fb8",
   "metadata": {},
   "outputs": [
    {
     "name": "stdout",
     "output_type": "stream",
     "text": [
      "((1, 2, 3), (4, 5, 6), (7, 8, 9))\n"
     ]
    }
   ],
   "source": [
    "# list inside tuple \n",
    "a=[[1, 2, 3], [4, 5, 6], [7, 8, 9]]\n",
    "t=tuple()\n",
    "for i in a:\n",
    "    t=t + (tuple(i),)\n",
    "print(t)"
   ]
  },
  {
   "cell_type": "code",
   "execution_count": null,
   "id": "a7f6c2b5",
   "metadata": {},
   "outputs": [],
   "source": []
  },
  {
   "cell_type": "code",
   "execution_count": null,
   "id": "d1781e70",
   "metadata": {},
   "outputs": [],
   "source": []
  }
 ],
 "metadata": {
  "kernelspec": {
   "display_name": "Python 3 (ipykernel)",
   "language": "python",
   "name": "python3"
  },
  "language_info": {
   "codemirror_mode": {
    "name": "ipython",
    "version": 3
   },
   "file_extension": ".py",
   "mimetype": "text/x-python",
   "name": "python",
   "nbconvert_exporter": "python",
   "pygments_lexer": "ipython3",
   "version": "3.11.3"
  }
 },
 "nbformat": 4,
 "nbformat_minor": 5
}
