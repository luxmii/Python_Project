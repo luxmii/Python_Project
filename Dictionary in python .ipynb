{
 "cells": [
  {
   "cell_type": "markdown",
   "id": "ac03974d",
   "metadata": {},
   "source": [
    "# Dictionary"
   ]
  },
  {
   "cell_type": "code",
   "execution_count": null,
   "id": "61d339c2",
   "metadata": {},
   "outputs": [],
   "source": [
    "# Dictionary\n",
    "# -indexing \n",
    "# -multiple and duplicate data\n",
    "# ordered \n",
    "# mutable data type \n",
    "# diictionary lai represent garne curley braket ma "
   ]
  },
  {
   "cell_type": "code",
   "execution_count": null,
   "id": "a1c0e1c6",
   "metadata": {},
   "outputs": [],
   "source": [
    "# d={<key>:value>, <key>:value}"
   ]
  },
  {
   "cell_type": "code",
   "execution_count": 2,
   "id": "64464ff9",
   "metadata": {},
   "outputs": [
    {
     "data": {
      "text/plain": [
       "{'a': 'apple', 'b': 'ball', 'c': 'cat'}"
      ]
     },
     "execution_count": 2,
     "metadata": {},
     "output_type": "execute_result"
    }
   ],
   "source": [
    "d={'a':'apple', 'b':'ball', 'c':'cat'}\n",
    "d"
   ]
  },
  {
   "cell_type": "code",
   "execution_count": 14,
   "id": "4b2dd767",
   "metadata": {},
   "outputs": [
    {
     "name": "stdout",
     "output_type": "stream",
     "text": [
      "Ant\n",
      "cat\n"
     ]
    }
   ],
   "source": [
    "print(d['a'])\n",
    "print(d['c'])"
   ]
  },
  {
   "cell_type": "code",
   "execution_count": null,
   "id": "cb1fc744",
   "metadata": {},
   "outputs": [],
   "source": [
    "d={'a':'apple', 'b':'ball', 'c':'cat'}"
   ]
  },
  {
   "cell_type": "code",
   "execution_count": null,
   "id": "c4e68653",
   "metadata": {},
   "outputs": [],
   "source": [
    "# Ordered  data type \n",
    "# jasto data type lekhexa tyai data type le print hunxa"
   ]
  },
  {
   "cell_type": "code",
   "execution_count": null,
   "id": "dd937dc1",
   "metadata": {},
   "outputs": [],
   "source": [
    "# Create a Dictionary\n",
    "d={}\n",
    "type(d)"
   ]
  },
  {
   "cell_type": "code",
   "execution_count": null,
   "id": "1f715cc9",
   "metadata": {},
   "outputs": [],
   "source": [
    "# Create a Dictionary (key jaile pani )\n",
    "d=dict{}\n",
    "type(d)"
   ]
  },
  {
   "cell_type": "code",
   "execution_count": 5,
   "id": "6d408d09",
   "metadata": {},
   "outputs": [
    {
     "data": {
      "text/plain": [
       "{'a': 'Apple', 'b': 'Ball', 'c': 'Cat'}"
      ]
     },
     "execution_count": 5,
     "metadata": {},
     "output_type": "execute_result"
    }
   ],
   "source": [
    "# Add value\n",
    "d={}\n",
    "d['a']='Apple'\n",
    "d['b']='Ball'\n",
    "d['c']='Cat'\n",
    "d"
   ]
  },
  {
   "cell_type": "code",
   "execution_count": 6,
   "id": "4da4e8b3",
   "metadata": {},
   "outputs": [
    {
     "data": {
      "text/plain": [
       "{'a': 'Ant', 'b': 'ball', 'c': 'cat'}"
      ]
     },
     "execution_count": 6,
     "metadata": {},
     "output_type": "execute_result"
    }
   ],
   "source": [
    "# update value\n",
    "d={'a':'apple', 'b':'ball', 'c':'cat'}\n",
    "d['a']='Ant'\n",
    "d"
   ]
  },
  {
   "cell_type": "code",
   "execution_count": 9,
   "id": "b9dc081a",
   "metadata": {},
   "outputs": [
    {
     "name": "stdout",
     "output_type": "stream",
     "text": [
      "a b c "
     ]
    }
   ],
   "source": [
    "# read dict\n",
    "d={'a': 'Ant', 'b': 'ball', 'c': 'cat'}\n",
    "for i in d:\n",
    "    print(i, end=' ')\n",
    "# Key lai matra return garxa "
   ]
  },
  {
   "cell_type": "code",
   "execution_count": 11,
   "id": "38bf1232",
   "metadata": {},
   "outputs": [
    {
     "name": "stdout",
     "output_type": "stream",
     "text": [
      "Ant\n",
      "ball\n",
      "cat\n"
     ]
    }
   ],
   "source": [
    "d={'a': 'Ant', 'b': 'ball', 'c': 'cat'}\n",
    "for i in d.values():\n",
    "    print(i)\n",
    "# likewise, yasari value print hunxa "
   ]
  },
  {
   "cell_type": "code",
   "execution_count": 12,
   "id": "1e4a75fa",
   "metadata": {},
   "outputs": [
    {
     "name": "stdout",
     "output_type": "stream",
     "text": [
      "('a', 'Ant')\n",
      "('b', 'ball')\n",
      "('c', 'cat')\n"
     ]
    }
   ],
   "source": [
    "d={'a': 'Ant', 'b': 'ball', 'c': 'cat'}\n",
    "for i in d.items():\n",
    "    print(i)\n",
    "# keys and value both print hunxa     "
   ]
  },
  {
   "cell_type": "code",
   "execution_count": 16,
   "id": "3dd0eeb2",
   "metadata": {},
   "outputs": [
    {
     "data": {
      "text/plain": [
       "{'a': 'Ant', 'b': 'ball', 'c': 'cat'}"
      ]
     },
     "execution_count": 16,
     "metadata": {},
     "output_type": "execute_result"
    }
   ],
   "source": [
    "# convert list into dict \n",
    "d=[['a','Ant'], ['b','ball'], ['c','cat']]\n",
    "dict(d)"
   ]
  },
  {
   "cell_type": "code",
   "execution_count": 17,
   "id": "4b046743",
   "metadata": {},
   "outputs": [
    {
     "name": "stdout",
     "output_type": "stream",
     "text": [
      "Enter value n = 2\n",
      "Enter name= ram\n",
      "Enter phone= 9852467\n",
      "Enter name= shyam\n",
      "Enter phone= 524795\n",
      "{'ram': '9852467', 'shyam': '524795'}\n"
     ]
    }
   ],
   "source": [
    "# Classwork (key value pair)\n",
    "data={}\n",
    "n=int(input('Enter value n = '))\n",
    "for i in range (n):\n",
    "    name = input('Enter name= ')\n",
    "    phone=input('Enter phone= ')\n",
    "    data[name]=phone\n",
    "\n",
    "print(data)"
   ]
  },
  {
   "cell_type": "code",
   "execution_count": null,
   "id": "58b2c474",
   "metadata": {},
   "outputs": [],
   "source": [
    "# No list as key in dictionary \n",
    "data = {'ram': '9852467', 'shyam': '524795'}"
   ]
  },
  {
   "cell_type": "code",
   "execution_count": 18,
   "id": "e3ad0347",
   "metadata": {},
   "outputs": [
    {
     "data": {
      "text/plain": [
       "{'ram': ['9852467', '5789455'], 'shyam': ['524795', '55617525']}"
      ]
     },
     "execution_count": 18,
     "metadata": {},
     "output_type": "execute_result"
    }
   ],
   "source": [
    "# list inside dictionary\n",
    "data = {'ram':['9852467','5789455'] , 'shyam': ['524795','55617525']}\n",
    "data"
   ]
  },
  {
   "cell_type": "code",
   "execution_count": 23,
   "id": "82bd3245",
   "metadata": {},
   "outputs": [
    {
     "name": "stdout",
     "output_type": "stream",
     "text": [
      "Enter value n = 2\n",
      "Enter name= ram\n",
      "Enter ntc phone= 5457852\n",
      "Enter ncell phone= 452575\n",
      "Enter name= hari\n",
      "Enter ntc phone= 45852\n",
      "Enter ncell phone= 457526\n",
      "{'ram': ['5457852', '452575'], 'hari': ['45852', '457526']}\n"
     ]
    }
   ],
   "source": [
    "data={}\n",
    "n=int(input('Enter value n = '))\n",
    "for i in range (n):\n",
    "    name = input('Enter name= ')\n",
    "    ntc_ph=input('Enter ntc phone= ')\n",
    "    ncell_ph=input('Enter ncell phone= ')\n",
    "    data[name]=[ntc_ph, ncell_ph]\n",
    "\n",
    "print(data)"
   ]
  },
  {
   "cell_type": "code",
   "execution_count": 24,
   "id": "fb441c55",
   "metadata": {},
   "outputs": [
    {
     "ename": "KeyError",
     "evalue": "'Ram'",
     "output_type": "error",
     "traceback": [
      "\u001b[1;31m---------------------------------------------------------------------------\u001b[0m",
      "\u001b[1;31mKeyError\u001b[0m                                  Traceback (most recent call last)",
      "Cell \u001b[1;32mIn[24], line 1\u001b[0m\n\u001b[1;32m----> 1\u001b[0m data[\u001b[38;5;124m'\u001b[39m\u001b[38;5;124mRam\u001b[39m\u001b[38;5;124m'\u001b[39m]\n",
      "\u001b[1;31mKeyError\u001b[0m: 'Ram'"
     ]
    }
   ],
   "source": [
    "data['ram'[0]]\n"
   ]
  },
  {
   "cell_type": "code",
   "execution_count": null,
   "id": "4b056251",
   "metadata": {},
   "outputs": [],
   "source": [
    "data = {\n",
    "    'name':['Ram', 'Shyam','Hari'],\n",
    "    'age':[78,67,89],\n",
    "    'add':['Kathmandu', 'Bhaktapur', 'Lalitpur']\n",
    "}\n"
   ]
  },
  {
   "cell_type": "code",
   "execution_count": 27,
   "id": "4df5e90b",
   "metadata": {},
   "outputs": [
    {
     "name": "stdout",
     "output_type": "stream",
     "text": [
      "Enter value of n 2\n",
      "Enter name = ram\n",
      "Enter age= 67\n",
      "Enter add= kathmandu\n",
      "Enter name = shyam\n",
      "Enter age= 36\n",
      "Enter add= bhaktapur\n",
      "{'name': ['ram', 'shyam'], 'age': ['67', '36'], 'add': ['kathmandu', 'bhaktapur']}\n"
     ]
    }
   ],
   "source": [
    "# important \n",
    "data={'name':[],\n",
    "     'age':[],\n",
    "     'add':[]}\n",
    "n=int(input('Enter value of n '))\n",
    "for i in range(n):\n",
    "    name =input('Enter name = ')\n",
    "    age =input('Enter age= ')\n",
    "    add =input('Enter add= ')\n",
    "    data['name'].append(name)\n",
    "    data['age'].append(age)\n",
    "    data['add'].append(add)\n",
    "\n",
    "print(data)"
   ]
  },
  {
   "cell_type": "code",
   "execution_count": 31,
   "id": "a634f9dc",
   "metadata": {},
   "outputs": [
    {
     "name": "stdout",
     "output_type": "stream",
     "text": [
      "name ram\n"
     ]
    },
    {
     "ename": "KeyError",
     "evalue": "'a'",
     "output_type": "error",
     "traceback": [
      "\u001b[1;31m---------------------------------------------------------------------------\u001b[0m",
      "\u001b[1;31mKeyError\u001b[0m                                  Traceback (most recent call last)",
      "Cell \u001b[1;32mIn[31], line 4\u001b[0m\n\u001b[0;32m      2\u001b[0m a\u001b[38;5;241m=\u001b[39m{\u001b[38;5;124m'\u001b[39m\u001b[38;5;124mname\u001b[39m\u001b[38;5;124m'\u001b[39m:[\u001b[38;5;124m'\u001b[39m\u001b[38;5;124mram\u001b[39m\u001b[38;5;124m'\u001b[39m, \u001b[38;5;124m'\u001b[39m\u001b[38;5;124mshyam\u001b[39m\u001b[38;5;124m'\u001b[39m], \u001b[38;5;124m'\u001b[39m\u001b[38;5;124mage\u001b[39m\u001b[38;5;124m'\u001b[39m: [\u001b[38;5;124m'\u001b[39m\u001b[38;5;124m67\u001b[39m\u001b[38;5;124m'\u001b[39m, \u001b[38;5;124m'\u001b[39m\u001b[38;5;124m36\u001b[39m\u001b[38;5;124m'\u001b[39m], \u001b[38;5;124m'\u001b[39m\u001b[38;5;124madd\u001b[39m\u001b[38;5;124m'\u001b[39m: [\u001b[38;5;124m'\u001b[39m\u001b[38;5;124mkathmandu\u001b[39m\u001b[38;5;124m'\u001b[39m, \u001b[38;5;124m'\u001b[39m\u001b[38;5;124mbhaktapur\u001b[39m\u001b[38;5;124m'\u001b[39m]}\n\u001b[0;32m      3\u001b[0m \u001b[38;5;28mprint\u001b[39m(\u001b[38;5;124m'\u001b[39m\u001b[38;5;124mname\u001b[39m\u001b[38;5;124m'\u001b[39m,a[\u001b[38;5;124m'\u001b[39m\u001b[38;5;124mname\u001b[39m\u001b[38;5;124m'\u001b[39m][\u001b[38;5;241m0\u001b[39m])\n\u001b[1;32m----> 4\u001b[0m \u001b[38;5;28mprint\u001b[39m(\u001b[38;5;124m'\u001b[39m\u001b[38;5;124mage\u001b[39m\u001b[38;5;124m'\u001b[39m,a[\u001b[38;5;124m'\u001b[39m\u001b[38;5;124mage\u001b[39m\u001b[38;5;124m'\u001b[39m [\u001b[38;5;241m0\u001b[39m]])\n\u001b[0;32m      5\u001b[0m \u001b[38;5;28mprint\u001b[39m(\u001b[38;5;124m'\u001b[39m\u001b[38;5;124madd\u001b[39m\u001b[38;5;124m'\u001b[39m,a[\u001b[38;5;124m'\u001b[39m\u001b[38;5;124madd\u001b[39m\u001b[38;5;124m'\u001b[39m][\u001b[38;5;241m0\u001b[39m])\n",
      "\u001b[1;31mKeyError\u001b[0m: 'a'"
     ]
    }
   ],
   "source": [
    "# details of ram\n",
    "a={'name':['ram', 'shyam'], 'age': ['67', '36'], 'add': ['kathmandu', 'bhaktapur']}\n",
    "print('name',a['name'][0])\n",
    "print('age',a['age' [0]])\n",
    "print('add',a['add'][0])"
   ]
  },
  {
   "cell_type": "code",
   "execution_count": 35,
   "id": "f4b46a0e",
   "metadata": {},
   "outputs": [],
   "source": [
    "# dict inside dict \n",
    "data={'physics':{'ptr':25, 'th':60},\n",
    "     'chemistry':{'ptr':25,'th':55,},\n",
    "      'Math':{'ptr': 25, 'th':67}}\n",
    "      "
   ]
  },
  {
   "cell_type": "code",
   "execution_count": 37,
   "id": "e6949748",
   "metadata": {},
   "outputs": [
    {
     "name": "stdout",
     "output_type": "stream",
     "text": [
      "25\n"
     ]
    }
   ],
   "source": [
    "# ptr marks of physics \n",
    "print(data['physics']['ptr'])"
   ]
  },
  {
   "cell_type": "code",
   "execution_count": 38,
   "id": "bc468291",
   "metadata": {},
   "outputs": [
    {
     "name": "stdout",
     "output_type": "stream",
     "text": [
      "60\n"
     ]
    }
   ],
   "source": [
    "print(data['physics']['th'])"
   ]
  },
  {
   "cell_type": "code",
   "execution_count": null,
   "id": "97652653",
   "metadata": {},
   "outputs": [],
   "source": [
    "# WAP to create dict inside dict with CRUD\n",
    "# WAP to edit and delete above program"
   ]
  },
  {
   "cell_type": "code",
   "execution_count": null,
   "id": "c87b1bbc",
   "metadata": {},
   "outputs": [],
   "source": [
    "# CRUD\n",
    "# c=create \n",
    "# r=read \n",
    "# u=update \n",
    "# d=delete"
   ]
  },
  {
   "cell_type": "code",
   "execution_count": 2,
   "id": "7a4af2a6",
   "metadata": {
    "scrolled": true
   },
   "outputs": [
    {
     "name": "stdout",
     "output_type": "stream",
     "text": [
      "enter n= 2\n",
      "Enter name = ram\n",
      "Enter age= 34\n",
      "Enter add= kathmandu\n",
      "Enter name = shyam\n",
      "Enter age= 22\n",
      "Enter add= bhw\n",
      "{1: {'name': 'ram', 'age': '34', 'add': 'kathmandu'}, 2: {'name': 'shyam', 'age': '22', 'add': 'bhw'}}\n"
     ]
    }
   ],
   "source": [
    "# Dictionary inside dictionary\n",
    "data = {}\n",
    "n=int(input('enter n= '))\n",
    "for i in range(1,n+1):\n",
    "    name= input('Enter name = ')\n",
    "    age= input('Enter age= ')\n",
    "    add=input('Enter add= ')\n",
    "    data[i]={'name':name, 'age':age, 'add':add}\n",
    "    \n",
    "print(data)"
   ]
  },
  {
   "cell_type": "code",
   "execution_count": null,
   "id": "b8abd79d",
   "metadata": {},
   "outputs": [],
   "source": [
    "# ekdum imp dict and list "
   ]
  },
  {
   "cell_type": "code",
   "execution_count": 3,
   "id": "9a8d4d05",
   "metadata": {},
   "outputs": [
    {
     "data": {
      "text/plain": [
       "{1: {'name': 'ram', 'age': '34', 'add': 'kathmandu'},\n",
       " 2: {'name': 'shyam', 'age': '22', 'add': 'bhw'},\n",
       " 3: {'namae': 'Hari', 'age': 34, 'add': 'Bara'}}"
      ]
     },
     "execution_count": 3,
     "metadata": {},
     "output_type": "execute_result"
    }
   ],
   "source": [
    "# add fuction \n",
    "data[3]={'namae':'Hari', 'age':34, 'add':'Bara'}\n",
    "data"
   ]
  },
  {
   "cell_type": "code",
   "execution_count": 5,
   "id": "264f526f",
   "metadata": {},
   "outputs": [
    {
     "data": {
      "text/plain": [
       "{1: {'name': 'ram', 'age': 29, 'add': 'kathmandu'},\n",
       " 2: {'name': 'shyam', 'age': '22', 'add': 'bhw'},\n",
       " 3: {'namae': 'Hari', 'age': 34, 'add': 'Bara'}}"
      ]
     },
     "execution_count": 5,
     "metadata": {},
     "output_type": "execute_result"
    }
   ],
   "source": [
    "# update\n",
    "data[1]['age']=29\n",
    "data"
   ]
  },
  {
   "cell_type": "code",
   "execution_count": 6,
   "id": "7f9d0e62",
   "metadata": {},
   "outputs": [
    {
     "data": {
      "text/plain": [
       "{1: {'name': 'ram', 'age': 29, 'add': 'kathmandu'},\n",
       " 2: {'name': 'shyam', 'age': '22', 'add': 'bhw'}}"
      ]
     },
     "execution_count": 6,
     "metadata": {},
     "output_type": "execute_result"
    }
   ],
   "source": [
    "# delete\n",
    "del data[3]\n",
    "data"
   ]
  },
  {
   "cell_type": "code",
   "execution_count": null,
   "id": "f15b591a",
   "metadata": {},
   "outputs": [],
   "source": []
  }
 ],
 "metadata": {
  "kernelspec": {
   "display_name": "Python 3 (ipykernel)",
   "language": "python",
   "name": "python3"
  },
  "language_info": {
   "codemirror_mode": {
    "name": "ipython",
    "version": 3
   },
   "file_extension": ".py",
   "mimetype": "text/x-python",
   "name": "python",
   "nbconvert_exporter": "python",
   "pygments_lexer": "ipython3",
   "version": "3.11.3"
  }
 },
 "nbformat": 4,
 "nbformat_minor": 5
}
