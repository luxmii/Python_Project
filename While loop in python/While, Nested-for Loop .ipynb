{
 "cells": [
  {
   "cell_type": "code",
   "execution_count": null,
   "id": "182760c9",
   "metadata": {},
   "outputs": [],
   "source": [
    "i = 1 \n",
    "n = int(input('Enter n = ' ))\n",
    "while 1<=10:\n",
    "    print(n*i)\n",
    "    i = i+1"
   ]
  },
  {
   "cell_type": "code",
   "execution_count": 4,
   "id": "0f93f2f4",
   "metadata": {},
   "outputs": [
    {
     "name": "stdout",
     "output_type": "stream",
     "text": [
      "Enter n = 1\n",
      "Enter name= appl\n",
      "Enter price= 200\n",
      "Enter qty= 2\n",
      "appl2002400\n",
      "\n"
     ]
    }
   ],
   "source": [
    "i=0\n",
    "bill = ''\n",
    "all_total = 0 \n",
    "n = int(input('Enter n = ' ))\n",
    "while i<n:\n",
    "    name = input('Enter name= ')\n",
    "    price = int(input('Enter price= '))\n",
    "    qty = int(input('Enter qty= '))\n",
    "    total = price * qty \n",
    "    bill = bill + name +''+str(price)+'' + str(qty)+'' + str(total)+''+'\\n'\n",
    "    all_total = all_total + total\n",
    "    i =i+1\n",
    "print(bill)"
   ]
  },
  {
   "cell_type": "code",
   "execution_count": 8,
   "id": "cf1d5002",
   "metadata": {},
   "outputs": [
    {
     "name": "stdout",
     "output_type": "stream",
     "text": [
      "0\n",
      "1\n",
      "2\n",
      "3\n",
      "4\n"
     ]
    }
   ],
   "source": [
    "i = 0 \n",
    "while i<10:\n",
    "    if i ==5:\n",
    "        break\n",
    "    print(i)\n",
    "    i = i+1"
   ]
  },
  {
   "cell_type": "code",
   "execution_count": 13,
   "id": "63008aff",
   "metadata": {},
   "outputs": [
    {
     "name": "stdout",
     "output_type": "stream",
     "text": [
      "0 1 2 3 4 6 7 8 9 "
     ]
    }
   ],
   "source": [
    "i = 0 \n",
    "while i<10:\n",
    "    if i ==5:\n",
    "        i = i+1\n",
    "        continue\n",
    "    print(i, end=' ')\n",
    "    i=i+1"
   ]
  },
  {
   "cell_type": "code",
   "execution_count": 14,
   "id": "5d2312af",
   "metadata": {},
   "outputs": [
    {
     "name": "stdout",
     "output_type": "stream",
     "text": [
      "0 0\n",
      "0 1\n",
      "1 0\n",
      "1 1\n"
     ]
    }
   ],
   "source": [
    "# Nested-for Loop \n",
    "for i in range(2):\n",
    "    for j in range(2):\n",
    "        print(i,j)"
   ]
  },
  {
   "cell_type": "code",
   "execution_count": null,
   "id": "8cce431d",
   "metadata": {},
   "outputs": [],
   "source": []
  }
 ],
 "metadata": {
  "kernelspec": {
   "display_name": "Python 3 (ipykernel)",
   "language": "python",
   "name": "python3"
  },
  "language_info": {
   "codemirror_mode": {
    "name": "ipython",
    "version": 3
   },
   "file_extension": ".py",
   "mimetype": "text/x-python",
   "name": "python",
   "nbconvert_exporter": "python",
   "pygments_lexer": "ipython3",
   "version": "3.11.3"
  }
 },
 "nbformat": 4,
 "nbformat_minor": 5
}
