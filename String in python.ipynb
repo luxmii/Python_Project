{
 "cells": [
  {
   "cell_type": "code",
   "execution_count": 2,
   "id": "f59ca0ff",
   "metadata": {},
   "outputs": [
    {
     "name": "stdout",
     "output_type": "stream",
     "text": [
      "<class 'str'>\n"
     ]
    }
   ],
   "source": [
    "a='Hello world'\n",
    "print(type(a))"
   ]
  },
  {
   "cell_type": "code",
   "execution_count": 6,
   "id": "2cfbd949",
   "metadata": {},
   "outputs": [
    {
     "name": "stdout",
     "output_type": "stream",
     "text": [
      "<class 'float'>\n"
     ]
    }
   ],
   "source": [
    "a = 5.6\n",
    "print(type(a))"
   ]
  },
  {
   "cell_type": "code",
   "execution_count": 10,
   "id": "02fae8ae",
   "metadata": {},
   "outputs": [
    {
     "name": "stdout",
     "output_type": "stream",
     "text": [
      "Hello worldHello world\n"
     ]
    }
   ],
   "source": [
    "a = \"Hello world\"\n",
    "print(a*2)"
   ]
  },
  {
   "cell_type": "code",
   "execution_count": 13,
   "id": "e24420b8",
   "metadata": {},
   "outputs": [
    {
     "name": "stdout",
     "output_type": "stream",
     "text": [
      "Hlowr\n"
     ]
    }
   ],
   "source": [
    "a = \"Hello world\"\n",
    "print(a[0:10:2])"
   ]
  },
  {
   "cell_type": "code",
   "execution_count": 12,
   "id": "6acb5c94",
   "metadata": {},
   "outputs": [
    {
     "name": "stdout",
     "output_type": "stream",
     "text": [
      "l\n"
     ]
    }
   ],
   "source": [
    "a = \"Hello world\"\n",
    "print(a[2])"
   ]
  },
  {
   "cell_type": "code",
   "execution_count": 14,
   "id": "eb2431fb",
   "metadata": {},
   "outputs": [
    {
     "data": {
      "text/plain": [
       "'Hello world'"
      ]
     },
     "execution_count": 14,
     "metadata": {},
     "output_type": "execute_result"
    }
   ],
   "source": [
    "a = \"Hello world\"\n",
    "a[0:]"
   ]
  },
  {
   "cell_type": "code",
   "execution_count": 15,
   "id": "ac0ddad3",
   "metadata": {},
   "outputs": [
    {
     "data": {
      "text/plain": [
       "'dlrow olleH'"
      ]
     },
     "execution_count": 15,
     "metadata": {},
     "output_type": "execute_result"
    }
   ],
   "source": [
    "a = \"Hello world\"\n",
    "a[::-1]"
   ]
  },
  {
   "cell_type": "code",
   "execution_count": 24,
   "id": "0026717c",
   "metadata": {},
   "outputs": [
    {
     "data": {
      "text/plain": [
       "'drwolH'"
      ]
     },
     "execution_count": 24,
     "metadata": {},
     "output_type": "execute_result"
    }
   ],
   "source": [
    "a = \"Hello world\"\n",
    "a[-1::-2]"
   ]
  },
  {
   "cell_type": "code",
   "execution_count": 29,
   "id": "5530a9a5",
   "metadata": {},
   "outputs": [
    {
     "name": "stdout",
     "output_type": "stream",
     "text": [
      "Hello world"
     ]
    }
   ],
   "source": [
    "a = \"Hello world\"\n",
    "l=len(a)\n",
    "for i in range(l):\n",
    "    print(a[i], end=\"\")"
   ]
  },
  {
   "cell_type": "code",
   "execution_count": 34,
   "id": "4cd35227",
   "metadata": {},
   "outputs": [],
   "source": [
    "# string formatting (on of a important topic)\n",
    "# this is string concatination\n",
    "name=\"Ram\"\n",
    "age=34\n",
    "address=\"Kathmandu\"\n",
    "\n",
    "info=\"Hello world I am\"+name+\"I am from\"+ str(add) +\"I am+str(age)\""
   ]
  },
  {
   "cell_type": "code",
   "execution_count": 31,
   "id": "29d4b3f2",
   "metadata": {},
   "outputs": [
    {
     "name": "stdout",
     "output_type": "stream",
     "text": [
      "Enter name= luxmi\n",
      "Enter age= 28\n",
      "Enter add= bhw\n",
      "Hello world I am luxmi. I am from bhw. I am28\n"
     ]
    }
   ],
   "source": [
    "# string formatting \n",
    "name=input(\"Enter name= \")\n",
    "age=input(\"Enter age= \")\n",
    "add=input(\"Enter add= \")\n",
    "\n",
    "info=f\"Hello world I am {name}. I am from {add}. I am {age}\"\n",
    "print(info)"
   ]
  },
  {
   "cell_type": "code",
   "execution_count": 39,
   "id": "49fc424b",
   "metadata": {},
   "outputs": [
    {
     "name": "stdout",
     "output_type": "stream",
     "text": [
      "ENter name= sita\n",
      "Yes\n",
      "1\n"
     ]
    }
   ],
   "source": [
    "# search\n",
    "a=\"ram shyam sita nabin ram akash\"\n",
    "name=input(\"Enter name= \")\n",
    "if name in a :\n",
    "    print(\"Yes\")\n",
    "    print(a.count(name))\n",
    "else:\n",
    "    print(\"there is no \", name)"
   ]
  },
  {
   "cell_type": "code",
   "execution_count": 42,
   "id": "41b06d40",
   "metadata": {},
   "outputs": [
    {
     "name": "stdout",
     "output_type": "stream",
     "text": [
      "RAM SHYAM SITA NABIN RAM AKASH\n",
      "ram shyam sita nabin ram akash\n",
      "ram shyam sita nabin ram akash\n"
     ]
    }
   ],
   "source": [
    "a=\"ram shyam sita nabin ram akash\"\n",
    "print(a.upper())\n",
    "print(a.lower())\n",
    "\n",
    "print(a)"
   ]
  },
  {
   "cell_type": "code",
   "execution_count": 45,
   "id": "347da638",
   "metadata": {
    "scrolled": true
   },
   "outputs": [
    {
     "name": "stdout",
     "output_type": "stream",
     "text": [
      "Enter name= ram\n",
      "Yes\n",
      "3\n"
     ]
    }
   ],
   "source": [
    "a=\"Ram Shyam Sita nabin ram akash, ramesh\".lower()\n",
    "name=input(\"Enter name= \").lower()\n",
    "if name in a :\n",
    "    print(\"Yes\")\n",
    "    print(a.count(name))\n",
    "else:\n",
    "    print(\"there is no \", name)"
   ]
  },
  {
   "cell_type": "code",
   "execution_count": 49,
   "id": "c067c794",
   "metadata": {},
   "outputs": [
    {
     "name": "stdout",
     "output_type": "stream",
     "text": [
      "john Shyam Sita nabin, john, akash, johnesh\n"
     ]
    }
   ],
   "source": [
    "# replace\n",
    "a=\"Ram ,Shyam Sita nabin, Ram, akash, Ramesh\"\n",
    "a=a.replace('Ram', 'john')\n",
    "print(a)"
   ]
  },
  {
   "cell_type": "code",
   "execution_count": 52,
   "id": "82fbd692",
   "metadata": {},
   "outputs": [
    {
     "name": "stdout",
     "output_type": "stream",
     "text": [
      "john,Shyam Sita nabin, john, akash, Ramesh\n"
     ]
    }
   ],
   "source": [
    "# replace\n",
    "a=\"Ram ,Shyam Sita nabin, Ram , akash, Ramesh\"\n",
    "a=a.replace('Ram ', 'john')\n",
    "print(a)"
   ]
  },
  {
   "cell_type": "code",
   "execution_count": 55,
   "id": "15544b2b",
   "metadata": {},
   "outputs": [
    {
     "name": "stdout",
     "output_type": "stream",
     "text": [
      ",Shyam Sita nabin, Ram, akash, Ramesh\n"
     ]
    }
   ],
   "source": [
    "# replace()\n",
    "a=\"Ram ,Shyam Sita nabin, Ram, akash, Ramesh\"\n",
    "a = a.replace(\"Ram \", \"\")\n",
    "print(a)"
   ]
  },
  {
   "cell_type": "code",
   "execution_count": 58,
   "id": "2abdfad1",
   "metadata": {},
   "outputs": [
    {
     "data": {
      "text/plain": [
       "'Ram ,Shyam Sita Nabin, Ram , Akash'"
      ]
     },
     "execution_count": 58,
     "metadata": {},
     "output_type": "execute_result"
    }
   ],
   "source": [
    "# title(),\n",
    "a=\"Ram ,shyam sita nabin, ram , akash\"\n",
    "a.title()"
   ]
  },
  {
   "cell_type": "code",
   "execution_count": 59,
   "id": "96c56473",
   "metadata": {},
   "outputs": [
    {
     "data": {
      "text/plain": [
       "['Ram', ',Shyam', 'Sita', 'nabin,', 'Ram', ',', 'akash,', 'Ramesh']"
      ]
     },
     "execution_count": 59,
     "metadata": {},
     "output_type": "execute_result"
    }
   ],
   "source": [
    "# split()\n",
    "a=\"Ram ,Shyam Sita nabin, Ram , akash, Ramesh\"\n",
    "a.split()"
   ]
  },
  {
   "cell_type": "code",
   "execution_count": 60,
   "id": "69fe4d68",
   "metadata": {},
   "outputs": [
    {
     "name": "stdout",
     "output_type": "stream",
     "text": [
      "['Ram', ',Shyam', 'Sita', 'nabin,', 'Ram', ',', 'akash,', 'Ramesh']\n"
     ]
    }
   ],
   "source": [
    "# split\n",
    "a=\"Ram ,Shyam Sita nabin, Ram , akash, Ramesh\"\n",
    "a= a.split()\n",
    "print(a)"
   ]
  },
  {
   "cell_type": "code",
   "execution_count": 62,
   "id": "8e566aa9",
   "metadata": {},
   "outputs": [
    {
     "data": {
      "text/plain": [
       "'Hello world, my name is luxmi acharya'"
      ]
     },
     "execution_count": 62,
     "metadata": {},
     "output_type": "execute_result"
    }
   ],
   "source": [
    "# capitalize\n",
    "a=\"hello world, My name is luxmi acharya\"\n",
    "a.capitalize()"
   ]
  },
  {
   "cell_type": "code",
   "execution_count": 70,
   "id": "77064a2b",
   "metadata": {},
   "outputs": [
    {
     "name": "stdout",
     "output_type": "stream",
     "text": [
      "*****Hello*****\n"
     ]
    }
   ],
   "source": [
    "# Center(width, fillchar)\n",
    "a=\"Hello\"\n",
    "print(a.center(15, \"*\"))\n"
   ]
  },
  {
   "cell_type": "code",
   "execution_count": 74,
   "id": "198f1b9c",
   "metadata": {},
   "outputs": [
    {
     "name": "stdout",
     "output_type": "stream",
     "text": [
      "H"
     ]
    }
   ],
   "source": [
    "# while loop in string \n",
    "a=\"Hello world\"\n",
    "l=len(a)\n",
    "i=0\n",
    "while i<1:\n",
    "    print(a[i], end=\"\")\n",
    "    i=i+1"
   ]
  },
  {
   "cell_type": "code",
   "execution_count": 2,
   "id": "d7325113",
   "metadata": {},
   "outputs": [
    {
     "name": "stdout",
     "output_type": "stream",
     "text": [
      "Enter n= 2\n",
      "Enter name = apple \n",
      "Enter price = 200\n",
      "Enter quantity = 4\n",
      "Enter name = mango\n",
      "Enter price = 150\n",
      "Enter quantity = 3\n",
      "apple  200 4 800\n",
      "mango 150 3 450\n",
      "\n"
     ]
    }
   ],
   "source": [
    "#String Formatting!\n",
    "i = 0\n",
    "bill = \"\"\n",
    "all_total = 0\n",
    "n = int(input(\"Enter n= \"))\n",
    "while i<n:\n",
    "    name = input(\"Enter name = \")\n",
    "    price = int(input(\"Enter price = \"))\n",
    "    qty = int(input('Enter quantity = '))\n",
    "    total = price * qty\n",
    "    bill = bill + f\"{name} {price} {qty} {total}\\n\"\n",
    "    all_total = all_total + total\n",
    "    i = i+1\n",
    "print(bill)"
   ]
  },
  {
   "cell_type": "code",
   "execution_count": null,
   "id": "9450f54d",
   "metadata": {},
   "outputs": [],
   "source": []
  }
 ],
 "metadata": {
  "kernelspec": {
   "display_name": "Python 3 (ipykernel)",
   "language": "python",
   "name": "python3"
  },
  "language_info": {
   "codemirror_mode": {
    "name": "ipython",
    "version": 3
   },
   "file_extension": ".py",
   "mimetype": "text/x-python",
   "name": "python",
   "nbconvert_exporter": "python",
   "pygments_lexer": "ipython3",
   "version": "3.11.3"
  }
 },
 "nbformat": 4,
 "nbformat_minor": 5
}
