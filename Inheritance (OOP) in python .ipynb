{
 "cells": [
  {
   "cell_type": "markdown",
   "id": "6a7e6946",
   "metadata": {},
   "source": [
    "# Inheritance"
   ]
  },
  {
   "cell_type": "code",
   "execution_count": null,
   "id": "bc749bb9",
   "metadata": {},
   "outputs": [],
   "source": [
    "# class A: \n",
    "#     pass\n",
    "# class B(A):\n",
    "#     pass\n",
    "\n",
    "# obj = B()"
   ]
  },
  {
   "cell_type": "code",
   "execution_count": 3,
   "id": "1e442dee",
   "metadata": {},
   "outputs": [
    {
     "name": "stdout",
     "output_type": "stream",
     "text": [
      "Hello World I am Ram. I am from Kathmandu. I am Kathmandu\n"
     ]
    }
   ],
   "source": [
    "class Data:                                      #parent class \n",
    "    def __init__(self):\n",
    "        self.name = \"Ram\"\n",
    "        self.age = 30\n",
    "        self.add = \"Kathmandu\"\n",
    "    def data(self):\n",
    "        print(self.name, self.age, self.add)\n",
    "            \n",
    "class info(Data):                                #child class \n",
    "    def info(self):\n",
    "        print(f\"Hello World I am {self.name}. I am from {self.add}. I am {self.add}\")\n",
    "        \n",
    "obj = info()\n",
    "obj.info()"
   ]
  },
  {
   "cell_type": "code",
   "execution_count": 6,
   "id": "3b6b427b",
   "metadata": {},
   "outputs": [
    {
     "name": "stdout",
     "output_type": "stream",
     "text": [
      "Enter name = Hari\n",
      "Enter age = 24\n",
      "Enter add = Lalitpur\n",
      "Hello World I am Hari. I am 24. I am fromLalitpur\n"
     ]
    }
   ],
   "source": [
    "class Data:                                      #parent class \n",
    "    def __init__(self, name,age, add):\n",
    "        self.name = name\n",
    "        self.age = age\n",
    "        self.add = add\n",
    "    def data(self):\n",
    "        print(self.name, self.age, self.add)\n",
    "            \n",
    "class info(Data):                                #child class \n",
    "    def info(self):\n",
    "        print(f\"Hello World I am {self.name}. I am {self.age}. I am from {self.add}\")\n",
    "        \n",
    "name = input(\"Enter name = \")\n",
    "age = int(input(\"Enter age = \"))\n",
    "add = input(\"Enter add = \")\n",
    "obj = info(name,age,add)\n",
    "obj.info()"
   ]
  },
  {
   "cell_type": "code",
   "execution_count": 15,
   "id": "2b28aa17",
   "metadata": {},
   "outputs": [
    {
     "name": "stdout",
     "output_type": "stream",
     "text": [
      "Enter name = Laxman\n",
      "Enter age = 31\n",
      "Enter add = Lexington\n",
      "Enter phone = 6223335812\n"
     ]
    },
    {
     "ename": "NameError",
     "evalue": "name 'Data__init__' is not defined",
     "output_type": "error",
     "traceback": [
      "\u001b[1;31m---------------------------------------------------------------------------\u001b[0m",
      "\u001b[1;31mNameError\u001b[0m                                 Traceback (most recent call last)",
      "Cell \u001b[1;32mIn[15], line 21\u001b[0m\n\u001b[0;32m     19\u001b[0m add \u001b[38;5;241m=\u001b[39m \u001b[38;5;28minput\u001b[39m(\u001b[38;5;124m\"\u001b[39m\u001b[38;5;124mEnter add = \u001b[39m\u001b[38;5;124m\"\u001b[39m)\n\u001b[0;32m     20\u001b[0m phone \u001b[38;5;241m=\u001b[39m \u001b[38;5;28minput\u001b[39m(\u001b[38;5;124m\"\u001b[39m\u001b[38;5;124mEnter phone = \u001b[39m\u001b[38;5;124m\"\u001b[39m)\n\u001b[1;32m---> 21\u001b[0m obj \u001b[38;5;241m=\u001b[39m info(name,age,add,phone)\n\u001b[0;32m     22\u001b[0m obj\u001b[38;5;241m.\u001b[39minfo()\n\u001b[0;32m     23\u001b[0m obj\u001b[38;5;241m.\u001b[39mdata()\n",
      "Cell \u001b[1;32mIn[15], line 12\u001b[0m, in \u001b[0;36minfo.__init__\u001b[1;34m(self, name, age, add, phone)\u001b[0m\n\u001b[0;32m     10\u001b[0m \u001b[38;5;28;01mdef\u001b[39;00m \u001b[38;5;21m__init__\u001b[39m (\u001b[38;5;28mself\u001b[39m,name,age,add,phone):\n\u001b[0;32m     11\u001b[0m     \u001b[38;5;28mself\u001b[39m\u001b[38;5;241m.\u001b[39mphone \u001b[38;5;241m=\u001b[39m phone\n\u001b[1;32m---> 12\u001b[0m     Data__init__(\u001b[38;5;28mself\u001b[39m,name,age,add)\n",
      "\u001b[1;31mNameError\u001b[0m: name 'Data__init__' is not defined"
     ]
    }
   ],
   "source": [
    "class Data:                                      #parent class \n",
    "    def __init__(self, name,age, add):\n",
    "        self.name = name\n",
    "        self.age = age\n",
    "        self.add = add\n",
    "    def data(self):\n",
    "        print(self.name, self.age, self.add)\n",
    "            \n",
    "class info(Data):                              #child class \n",
    "    def __init__ (self,name,age,add,phone):\n",
    "        self.phone = phone\n",
    "        Data__init__(self,name,age,add)\n",
    "    def info(self):\n",
    "        print(f'''Hello World I am {self.name}. I am {self.age}. \n",
    "        I am from {self.add}. My no is {self.phone}''')\n",
    "        \n",
    "name = input(\"Enter name = \")\n",
    "age = int(input(\"Enter age = \"))\n",
    "add = input(\"Enter add = \")\n",
    "phone = input(\"Enter phone = \")\n",
    "obj = info(name,age,add,phone)\n",
    "obj.info()\n",
    "obj.data()\n",
    "print(obj.name,obj.age,obj.add,obj.phone)"
   ]
  },
  {
   "cell_type": "code",
   "execution_count": null,
   "id": "a91f6bbf",
   "metadata": {},
   "outputs": [],
   "source": [
    "# Multi-level inheritance"
   ]
  },
  {
   "cell_type": "code",
   "execution_count": null,
   "id": "321ab49d",
   "metadata": {},
   "outputs": [],
   "source": [
    "class A:\n",
    "    pass\n",
    "\n",
    "class B(A):\n",
    "    pass\n",
    "\n",
    "class C(B):\n",
    "    pass\n",
    "\n",
    "obj = C()"
   ]
  },
  {
   "cell_type": "code",
   "execution_count": null,
   "id": "e48fda57",
   "metadata": {},
   "outputs": [],
   "source": [
    "# Multiple inheritance"
   ]
  },
  {
   "cell_type": "code",
   "execution_count": 17,
   "id": "7da5d51c",
   "metadata": {},
   "outputs": [],
   "source": [
    "class A:\n",
    "    pass\n",
    "\n",
    "class B:\n",
    "    pass\n",
    "\n",
    "class C(A,B):\n",
    "    pass\n",
    "\n",
    "obj = C()"
   ]
  },
  {
   "cell_type": "code",
   "execution_count": null,
   "id": "c1cc1dce",
   "metadata": {},
   "outputs": [],
   "source": []
  },
  {
   "cell_type": "markdown",
   "id": "4ad969dc",
   "metadata": {},
   "source": [
    "# Private, public and protected members \n"
   ]
  },
  {
   "cell_type": "code",
   "execution_count": 1,
   "id": "80efc777",
   "metadata": {},
   "outputs": [
    {
     "name": "stdout",
     "output_type": "stream",
     "text": [
      "Hello world I am Ram, I am from Kathmandu , I am 23\n",
      "Ram 23 Kathmandu \n"
     ]
    }
   ],
   "source": [
    "#public members \n",
    "class Info:\n",
    "    def __init__(self):\n",
    "        self.name = \"Ram\"\n",
    "        self.age = \"23\"\n",
    "        self.add = \"Kathmandu \"\n",
    "    def info(self):\n",
    "        print(f\"Hello world I am {self.name}, I am from {self.add}, I am {self.age}\")\n",
    "\n",
    "obj = Info()\n",
    "obj.info()\n",
    "print(obj.name, obj.age,obj.add)"
   ]
  },
  {
   "cell_type": "code",
   "execution_count": 4,
   "id": "2513264d",
   "metadata": {},
   "outputs": [
    {
     "name": "stdout",
     "output_type": "stream",
     "text": [
      "Hello world I am Ram, I am from Kathmandu , I am 23\n",
      "Ram 23 Kathmandu \n"
     ]
    }
   ],
   "source": [
    "# protected members \n",
    "# protected members ko kaam kam hunxa python ma \n",
    "class Info:\n",
    "    def __init__(self):\n",
    "        self._name = \"Ram\"\n",
    "        self._age = \"23\"\n",
    "        self._add = \"Kathmandu \"\n",
    "    def info(self):\n",
    "        print(f\"Hello world I am {self._name}, I am from {self._add}, I am {self._age}\")\n",
    "\n",
    "obj = Info()\n",
    "obj.info()\n",
    "print(obj._name, obj._age,obj._add)"
   ]
  },
  {
   "cell_type": "code",
   "execution_count": 6,
   "id": "db4d0a10",
   "metadata": {},
   "outputs": [
    {
     "name": "stdout",
     "output_type": "stream",
     "text": [
      "Hello world I am Ram, I am from Kathmandu , I am 23\n"
     ]
    }
   ],
   "source": [
    "# Private members \n",
    "class Info:\n",
    "    def __init__(self):\n",
    "        self.__name = \"Ram\"\n",
    "        self.__age = \"23\"\n",
    "        self.__add = \"Kathmandu \"\n",
    "    def info(self):\n",
    "        print(f\"Hello world I am {self.__name}, I am from {self.__add}, I am {self.__age}\")\n",
    "\n",
    "obj = Info()\n",
    "obj.info()"
   ]
  },
  {
   "cell_type": "code",
   "execution_count": 11,
   "id": "2b53a963",
   "metadata": {},
   "outputs": [
    {
     "name": "stdout",
     "output_type": "stream",
     "text": [
      "Hello World I am Ram. I am from 30\n",
      "Ram 30\n"
     ]
    }
   ],
   "source": [
    "class Data:                                        #parent class \n",
    "    def __init__(self):\n",
    "        self.name = \"Ram\"                          #public member\n",
    "        self._age = 30                             #protected member\n",
    "        self.__add = \"Kathmandu\"                   #private member\n",
    "    \n",
    "    def data(self): \n",
    "        print(self.name, self._age)\n",
    "            \n",
    "class info(Data):                                   #child class \n",
    "    def info(self):\n",
    "        print(f\"Hello World I am {self.name}. I am from {self._age}\")\n",
    "   \n",
    "    def my_data(self):\n",
    "        #Data.data(self)\n",
    "        super().data()\n",
    "        \n",
    "obj = info()\n",
    "obj.info()\n",
    "obj.my_data()"
   ]
  },
  {
   "cell_type": "code",
   "execution_count": 15,
   "id": "beecdb78",
   "metadata": {},
   "outputs": [
    {
     "name": "stdout",
     "output_type": "stream",
     "text": [
      "Hello world I am Ram, I am from Kathmandu , I am 23\n",
      "Ram 23 Kathmandu \n"
     ]
    }
   ],
   "source": [
    "# Private members name mangling\n",
    "class Info:\n",
    "    def __init__(self):\n",
    "        self.name = \"Ram\"\n",
    "        self._age = \"23\"\n",
    "        self.__add = \"Kathmandu \"\n",
    "    def info(self):\n",
    "        print(f\"Hello world I am {self.name}, I am from {self.__add}, I am {self._age}\")\n",
    "\n",
    "obj = Info()\n",
    "obj.info()\n",
    "print(obj.name,obj._age,obj._Info__add)"
   ]
  },
  {
   "cell_type": "code",
   "execution_count": 16,
   "id": "a660e0ac",
   "metadata": {},
   "outputs": [
    {
     "name": "stdout",
     "output_type": "stream",
     "text": [
      "Hello World I am Ram. I am 30,I am from Kathmandu\n",
      "Ram 30\n"
     ]
    }
   ],
   "source": [
    "# name mangling\n",
    "class Data:                                        #parent class \n",
    "    def __init__(self):\n",
    "        self.name = \"Ram\"                          #public member\n",
    "        self._age = 30                             #protected member\n",
    "        self.__add = \"Kathmandu\"                   #private member\n",
    "    \n",
    "    def data(self): \n",
    "        print(self.name, self._age)\n",
    "            \n",
    "class info(Data):                                   #child class \n",
    "    def info(self):\n",
    "        print(f\"Hello World I am {self.name}. I am {self._age},I am from {self._Data__add}\")\n",
    "   \n",
    "    def my_data(self):\n",
    "        #Data.data(self)\n",
    "        super().data()\n",
    "        \n",
    "obj = info()\n",
    "obj.info()\n",
    "obj.my_data()"
   ]
  },
  {
   "cell_type": "code",
   "execution_count": 17,
   "id": "75823aa1",
   "metadata": {},
   "outputs": [
    {
     "name": "stdout",
     "output_type": "stream",
     "text": [
      "Enter name = Laxman\n",
      "Enter age = 31\n",
      "Enter add = Lexington\n",
      "Hello World I am Laxman. I am 31.\n",
      "Laxman 31\n"
     ]
    }
   ],
   "source": [
    "class Data:                                      #parent class \n",
    "    def __init__(self, name,age, add):\n",
    "        self.name = name\n",
    "        self._age = age\n",
    "        self.__add = add\n",
    "    \n",
    "    def data(self):\n",
    "        print(self.name, self._age)\n",
    "\n",
    "class info(Data):                               #child class \n",
    "    def info(self):\n",
    "        print(f\"Hello World I am {self.name}. I am {self._age}.\")\n",
    "        \n",
    "name = input(\"Enter name = \")\n",
    "age = int(input(\"Enter age = \"))\n",
    "add = input(\"Enter add = \")\n",
    "\n",
    "obj = info(name,age,add)\n",
    "obj.info()\n",
    "obj.data()"
   ]
  },
  {
   "cell_type": "code",
   "execution_count": 20,
   "id": "e90253ae",
   "metadata": {},
   "outputs": [
    {
     "name": "stdout",
     "output_type": "stream",
     "text": [
      "Ram\n",
      "<class '__main__.Info'>\n",
      "Hello world I am Ram, I am from Kathmandu , I am 23\n"
     ]
    }
   ],
   "source": [
    "# Str method:\n",
    "class Info:\n",
    "    def __init__(self):\n",
    "        self.name = \"Ram\"\n",
    "        self.age = \"23\"\n",
    "        self.add = \"Kathmandu \"\n",
    "    def __str__(self):\n",
    "        return self.name\n",
    "   \n",
    "    def info(self):\n",
    "        print(f\"Hello world I am {self.name}, I am from {self.add}, I am {self.age}\")\n",
    "\n",
    "obj = Info()\n",
    "print(obj)\n",
    "print(type(obj))\n",
    "obj.info()\n"
   ]
  },
  {
   "cell_type": "code",
   "execution_count": null,
   "id": "22f8e1b4",
   "metadata": {},
   "outputs": [],
   "source": []
  }
 ],
 "metadata": {
  "kernelspec": {
   "display_name": "Python 3 (ipykernel)",
   "language": "python",
   "name": "python3"
  },
  "language_info": {
   "codemirror_mode": {
    "name": "ipython",
    "version": 3
   },
   "file_extension": ".py",
   "mimetype": "text/x-python",
   "name": "python",
   "nbconvert_exporter": "python",
   "pygments_lexer": "ipython3",
   "version": "3.11.3"
  }
 },
 "nbformat": 4,
 "nbformat_minor": 5
}
