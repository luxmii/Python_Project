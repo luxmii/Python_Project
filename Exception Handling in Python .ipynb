{
 "cells": [
  {
   "cell_type": "markdown",
   "id": "5c783812",
   "metadata": {},
   "source": [
    "## Exceptional Handling in Python "
   ]
  },
  {
   "cell_type": "code",
   "execution_count": 1,
   "id": "b63d2646",
   "metadata": {},
   "outputs": [],
   "source": [
    "# Exceptions means Bug, or error, \n",
    "# progrm lai crash huna bata bachauna \n",
    "# "
   ]
  },
  {
   "cell_type": "code",
   "execution_count": 2,
   "id": "420fe540",
   "metadata": {},
   "outputs": [],
   "source": [
    "# try:\n",
    "#     <operations>\n",
    "\n",
    "# except:\n",
    "#     <operations>"
   ]
  },
  {
   "cell_type": "code",
   "execution_count": 3,
   "id": "9920475d",
   "metadata": {},
   "outputs": [
    {
     "name": "stdout",
     "output_type": "stream",
     "text": [
      "The age should be in int\n"
     ]
    }
   ],
   "source": [
    "# Basic example\n",
    "try:\n",
    "    age = int(input(\"Enter age = \"))\n",
    "    \n",
    "except:\n",
    "    print(\"The age should be in int\")"
   ]
  },
  {
   "cell_type": "code",
   "execution_count": 4,
   "id": "578e4809",
   "metadata": {},
   "outputs": [
    {
     "name": "stdout",
     "output_type": "stream",
     "text": [
      "There is some error\n"
     ]
    }
   ],
   "source": [
    "# Another example \n",
    "try:\n",
    "    a = int(input(\"Enter a = \"))\n",
    "    b = int(input(\"Enter b = \"))\n",
    "    c = a/b\n",
    "    print(c)\n",
    "  \n",
    "except:\n",
    "    print(\"There is some error\")"
   ]
  },
  {
   "cell_type": "code",
   "execution_count": 5,
   "id": "58c3d462",
   "metadata": {},
   "outputs": [],
   "source": [
    "# diff diff types of error"
   ]
  },
  {
   "cell_type": "code",
   "execution_count": 6,
   "id": "efa3dc8a",
   "metadata": {},
   "outputs": [
    {
     "name": "stdout",
     "output_type": "stream",
     "text": [
      "Invalid number\n"
     ]
    }
   ],
   "source": [
    "try:\n",
    "    10/0\n",
    "except:\n",
    "    print(\"Invalid number\")"
   ]
  },
  {
   "cell_type": "code",
   "execution_count": 8,
   "id": "001afb4f",
   "metadata": {},
   "outputs": [
    {
     "name": "stdout",
     "output_type": "stream",
     "text": [
      "Enter a = 1\n",
      "Enter b = 0\n",
      "Value of b should be a\n"
     ]
    }
   ],
   "source": [
    "try:\n",
    "    a = int(input(\"Enter a = \"))\n",
    "    b = int(input(\"Enter b = \"))\n",
    "    c = a/b\n",
    "    print(c)\n",
    "  \n",
    "except ValueError:\n",
    "    print(\"a and b should be int\")\n",
    "except ZeroDivisionError:\n",
    "    print(\"Value of b should be a\")"
   ]
  },
  {
   "cell_type": "code",
   "execution_count": 14,
   "id": "82162efd",
   "metadata": {},
   "outputs": [
    {
     "name": "stdout",
     "output_type": "stream",
     "text": [
      "Enter your username-> admin\n",
      "Enter your password-> admin\n",
      "You are logged in\n"
     ]
    }
   ],
   "source": [
    "username = \"admin\"\n",
    "password = \"admin\"\n",
    "\n",
    "try:\n",
    "    username1 = input(\"Enter your username-> \")\n",
    "    password1 = input(\"Enter your password-> \")\n",
    "    assert username == username1 and password == password1\n",
    "    print(\"You are logged in\")\n",
    "    \n",
    "except:\n",
    "    print(\"The username and password does not match\")"
   ]
  },
  {
   "cell_type": "code",
   "execution_count": 18,
   "id": "cf8ab3d5",
   "metadata": {},
   "outputs": [
    {
     "name": "stdout",
     "output_type": "stream",
     "text": [
      "Enter your username-> aasd\n",
      "Enter your password-> aas\n",
      "The username and password does not match\n",
      "Enter your username-> aashdhdh\n",
      "Enter your password-> ddjjdjd\n",
      "The username and password does not match\n",
      "Enter your username-> jdjd\n",
      "Enter your password-> ddjdjd\n",
      "The username and password does not match\n",
      "Enter your username-> admin\n",
      "Enter your password-> admin\n",
      "You are logged in\n"
     ]
    }
   ],
   "source": [
    "def login():\n",
    "    username = \"admin\"\n",
    "    password = \"admin\"\n",
    "\n",
    "    try:\n",
    "        username1 = input(\"Enter your username-> \")\n",
    "        password1 = input(\"Enter your password-> \")\n",
    "        assert username == username1 and password == password1\n",
    "        print(\"You are logged in\")\n",
    "    \n",
    "    except:\n",
    "        print(\"The username and password does not match\")\n",
    "        login()\n",
    "    \n",
    "    \n",
    "login()"
   ]
  },
  {
   "cell_type": "code",
   "execution_count": 26,
   "id": "8dfd8a2a",
   "metadata": {},
   "outputs": [
    {
     "name": "stdout",
     "output_type": "stream",
     "text": [
      "Enter your username-> AJAJA\n",
      "Enter your password-> VVV\n",
      "The username and password does not match\n",
      "Enter your username-> ddjd\n",
      "Enter your password-> aaddd\n",
      "The username and password does not match\n",
      "Enter your username-> admin\n",
      "Enter your password-> admin\n",
      "You are logged in 3 attempts\n"
     ]
    }
   ],
   "source": [
    "c = 1\n",
    "def login():\n",
    "    global c \n",
    "    username = \"admin\"\n",
    "    password = \"admin\"\n",
    "\n",
    "    try:\n",
    "        username1 = input(\"Enter your username-> \")\n",
    "        password1 = input(\"Enter your password-> \")\n",
    "        assert username == username1 and password == password1\n",
    "        print(f\"You are logged in {c} attempts\")\n",
    "    \n",
    "    except:\n",
    "        print(\"The username and password does not match\")\n",
    "        c = c+1 \n",
    "        login()\n",
    "    \n",
    "login()"
   ]
  },
  {
   "cell_type": "code",
   "execution_count": 28,
   "id": "65328298",
   "metadata": {},
   "outputs": [
    {
     "name": "stdout",
     "output_type": "stream",
     "text": [
      "Enter your username-> admin\n",
      "Enter your password-> admin\n",
      "You are logged in\n"
     ]
    }
   ],
   "source": [
    "username = \"admin\"\n",
    "password = \"admin\"\n",
    "\n",
    "try:\n",
    "    username1 = input(\"Enter your username-> \")\n",
    "    password1 = input(\"Enter your password-> \")\n",
    "    assert username == username1 and password == password1\n",
    "  \n",
    "    \n",
    "except:\n",
    "    print(\"The username and password does not match\")\n",
    "    \n",
    "else:\n",
    "    print(\"You are logged in\")"
   ]
  },
  {
   "cell_type": "code",
   "execution_count": 32,
   "id": "2fec12b6",
   "metadata": {},
   "outputs": [
    {
     "name": "stdout",
     "output_type": "stream",
     "text": [
      "There is no such file\n"
     ]
    }
   ],
   "source": [
    "try:\n",
    "    file = open('new_data.txt', 'r')\n",
    "\n",
    "except:\n",
    "    print('There is no such file')\n",
    "\n",
    "else:\n",
    "    print(file.read())\n",
    "    file.close()"
   ]
  },
  {
   "cell_type": "code",
   "execution_count": null,
   "id": "0d6affba",
   "metadata": {},
   "outputs": [],
   "source": []
  }
 ],
 "metadata": {
  "kernelspec": {
   "display_name": "Python 3 (ipykernel)",
   "language": "python",
   "name": "python3"
  },
  "language_info": {
   "codemirror_mode": {
    "name": "ipython",
    "version": 3
   },
   "file_extension": ".py",
   "mimetype": "text/x-python",
   "name": "python",
   "nbconvert_exporter": "python",
   "pygments_lexer": "ipython3",
   "version": "3.11.3"
  }
 },
 "nbformat": 4,
 "nbformat_minor": 5
}
