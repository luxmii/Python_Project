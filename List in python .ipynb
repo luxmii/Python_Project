{
 "cells": [
  {
   "cell_type": "markdown",
   "id": "826ec147",
   "metadata": {},
   "source": [
    "# List"
   ]
  },
  {
   "cell_type": "code",
   "execution_count": null,
   "id": "460ead48",
   "metadata": {},
   "outputs": [],
   "source": [
    "# Python collection \n",
    "# List \n",
    "# tuple \n",
    "# dictionary \n",
    "# set \n",
    "# list is collection of data or value "
   ]
  },
  {
   "cell_type": "code",
   "execution_count": null,
   "id": "134f6890",
   "metadata": {},
   "outputs": [],
   "source": [
    "# List or (Array)\n",
    "# Indexing \n",
    "# Duplicate and multiple values \n",
    "# Ordered \n",
    "# Mutable\n",
    "# list is most used data type in pythòn "
   ]
  },
  {
   "cell_type": "code",
   "execution_count": null,
   "id": "e827d112",
   "metadata": {},
   "outputs": [],
   "source": [
    "l=list()\n",
    "l=[]"
   ]
  },
  {
   "cell_type": "code",
   "execution_count": 5,
   "id": "e7d65bbe",
   "metadata": {
    "collapsed": true
   },
   "outputs": [
    {
     "name": "stdout",
     "output_type": "stream",
     "text": [
      "<class 'list'>\n",
      "<class 'list'>\n"
     ]
    }
   ],
   "source": [
    "a=[1,2,3,4,5,6,7,8,9]\n",
    "b=[\"Apple\", \"Dog\", \"Ball\", \"Fish\",\"Cat\"]\n",
    "print(type(a))\n",
    "print(type(b))"
   ]
  },
  {
   "cell_type": "code",
   "execution_count": 8,
   "id": "3c209c72",
   "metadata": {},
   "outputs": [
    {
     "name": "stdout",
     "output_type": "stream",
     "text": [
      "Apple\n",
      "['Apple', 'Dog', 'Ball', 'Fish', 'Cat']\n",
      "['Apple', 'Ball', 'Cat']\n"
     ]
    }
   ],
   "source": [
    "# Indexing\n",
    "a=[\"Apple\", \"Dog\", \"Ball\", \"Fish\",\"Cat\"]\n",
    "print(a[0])\n",
    "print(a[0:5])\n",
    "print(a[0:5:2])"
   ]
  },
  {
   "cell_type": "code",
   "execution_count": null,
   "id": "f68e3739",
   "metadata": {},
   "outputs": [],
   "source": [
    "# Duplicate Values \n",
    "a=[\"Apple\", \"Dog\", \"Ball\", \"Fish\",\"Cat\", \"Apple\", \"Ball\"]"
   ]
  },
  {
   "cell_type": "code",
   "execution_count": null,
   "id": "508ecab7",
   "metadata": {},
   "outputs": [],
   "source": [
    "# Ordered Data type \n",
    "a=[\"Apple\", \"Dog\", \"Ball\", \"Fish\",\"Cat\"]\n"
   ]
  },
  {
   "cell_type": "code",
   "execution_count": 10,
   "id": "753a1093",
   "metadata": {},
   "outputs": [
    {
     "name": "stdout",
     "output_type": "stream",
     "text": [
      "[1, 2, 3, 4, 5, 6, 7, 8]\n"
     ]
    }
   ],
   "source": [
    "# +,* (Addition and multiplication)\n",
    "a=[1,2,3,4]\n",
    "b=[5,6,7,8]\n",
    "c=a+b\n",
    "print(c)"
   ]
  },
  {
   "cell_type": "code",
   "execution_count": 11,
   "id": "e54afb4c",
   "metadata": {},
   "outputs": [
    {
     "name": "stdout",
     "output_type": "stream",
     "text": [
      "[1, 2, 3, 4, 1, 2, 3, 4]\n"
     ]
    }
   ],
   "source": [
    "a=[1,2,3,4]\n",
    "b=2\n",
    "c=a*b\n",
    "print(c)"
   ]
  },
  {
   "cell_type": "code",
   "execution_count": null,
   "id": "21bb5159",
   "metadata": {},
   "outputs": [],
   "source": [
    "# multiple data lai save garera rakhne matra ho, calculations garne hoina\n",
    "# Sort garne bela ma ki ta only integer ki only float ki only string(a.sort is function)\n",
    "# capital letter lai priority dinxa sort le \n"
   ]
  },
  {
   "cell_type": "code",
   "execution_count": 19,
   "id": "7b39d2eb",
   "metadata": {},
   "outputs": [
    {
     "name": "stdout",
     "output_type": "stream",
     "text": [
      "Enter n = 3\n",
      "Enter x = 15\n",
      "Enter x = 10\n",
      "Enter x = 15\n",
      "[15, 10, 15]\n",
      "The sum= 40\n",
      "The max= 15\n",
      "The min= 10\n",
      "The avg= 40\n",
      "[10, 15, 15]\n",
      "[15, 15, 10]\n"
     ]
    }
   ],
   "source": [
    "l=[]\n",
    "n=int(input(\"Enter n = \"))\n",
    "for i in range(n):\n",
    "    x=int(input(\"Enter x = \"))\n",
    "    l=l+[x]\n",
    "\n",
    "print(l)\n",
    "print(\"The sum=\", sum (l))\n",
    "print(\"The max=\", max(l))\n",
    "print(\"The min=\", min(l))\n",
    "print(\"The avg=\", sum(l))\n",
    "l.sort()\n",
    "print(l)\n",
    "l.reverse()\n",
    "print(l)"
   ]
  },
  {
   "cell_type": "code",
   "execution_count": 22,
   "id": "631018a9",
   "metadata": {},
   "outputs": [
    {
     "name": "stdout",
     "output_type": "stream",
     "text": [
      "['apple', 'Dog', 'ball', 'Fish', 'Cat']\n"
     ]
    }
   ],
   "source": [
    "a=[\"apple\", \"Dog\", \"ball\", \"Fish\",\"Cat\"]\n",
    "a.sort\n",
    "print(a)"
   ]
  },
  {
   "cell_type": "code",
   "execution_count": 23,
   "id": "4caad686",
   "metadata": {},
   "outputs": [
    {
     "name": "stdout",
     "output_type": "stream",
     "text": [
      "Apple\n",
      "cat\n",
      "Fish\n"
     ]
    }
   ],
   "source": [
    "# Loop in list\n",
    "a = [\"Apple\", \"cat\", \"Fish\"]\n",
    "for i in a:\n",
    "    print(i)"
   ]
  },
  {
   "cell_type": "code",
   "execution_count": 29,
   "id": "ccf3f9e3",
   "metadata": {},
   "outputs": [
    {
     "name": "stdout",
     "output_type": "stream",
     "text": [
      "Apple\n",
      "cat\n",
      "Fish\n"
     ]
    }
   ],
   "source": [
    "i=0\n",
    "a = [\"Apple\", \"cat\", \"Fish\"]\n",
    "l=len(a)\n",
    "while i<l:\n",
    "    print(a[i])\n",
    "    i=i+1"
   ]
  },
  {
   "cell_type": "code",
   "execution_count": null,
   "id": "fe346292",
   "metadata": {},
   "outputs": [],
   "source": [
    "# insert values \n",
    "# --append(), insert(), extend ()\n",
    "\n",
    "# delete values \n",
    "# --del, remove(), pop ()"
   ]
  },
  {
   "cell_type": "code",
   "execution_count": 31,
   "id": "c26284d6",
   "metadata": {},
   "outputs": [
    {
     "data": {
      "text/plain": [
       "['Apple', 'cat', 'Fish', 'Apple', 'Ball', 'Cat']"
      ]
     },
     "execution_count": 31,
     "metadata": {},
     "output_type": "execute_result"
    }
   ],
   "source": [
    "# append -- first come first in value , original value ma change auxa.\n",
    "# append le last last ma value add garxa \n",
    "a.append('Apple')\n",
    "a.append('Ball')\n",
    "a.append('Cat')\n",
    "a"
   ]
  },
  {
   "cell_type": "code",
   "execution_count": 32,
   "id": "b862df84",
   "metadata": {},
   "outputs": [
    {
     "name": "stdout",
     "output_type": "stream",
     "text": [
      "Enter n = 2\n",
      "Enter x = 5\n",
      "Enter x = 5\n",
      "[5, 5]\n"
     ]
    }
   ],
   "source": [
    "l=[]\n",
    "n=int(input(\"Enter n = \"))\n",
    "for i in range(n):\n",
    "    x=int(input(\"Enter x = \"))\n",
    "    l.append(x)\n",
    "print(l)"
   ]
  },
  {
   "cell_type": "code",
   "execution_count": 38,
   "id": "b3bcf3e2",
   "metadata": {},
   "outputs": [
    {
     "data": {
      "text/plain": [
       "['Apple', 'cat', 'cow', 'Fish', 'Rat']"
      ]
     },
     "execution_count": 38,
     "metadata": {},
     "output_type": "execute_result"
    }
   ],
   "source": [
    "# Insert Fuction ()\n",
    "# insert le bich ma value insert garxa\n",
    "a = [\"Apple\", \"cat\", \"Fish\",\"Rat\"]\n",
    "a.insert(2,\"cow\")\n",
    "a"
   ]
  },
  {
   "cell_type": "code",
   "execution_count": 39,
   "id": "6dd458f2",
   "metadata": {},
   "outputs": [
    {
     "data": {
      "text/plain": [
       "[1, 2, 3, 4, 5, 6]"
      ]
     },
     "execution_count": 39,
     "metadata": {},
     "output_type": "execute_result"
    }
   ],
   "source": [
    "# extend()\n",
    "a=[1,2,3]\n",
    "b=[4,5,6,]\n",
    "a.extend(b)\n",
    "a"
   ]
  },
  {
   "cell_type": "code",
   "execution_count": 42,
   "id": "222bfd06",
   "metadata": {},
   "outputs": [
    {
     "name": "stdout",
     "output_type": "stream",
     "text": [
      "['Apple', 'cat', 'Fish', 'Rat', 'cat', 'Fish']\n"
     ]
    }
   ],
   "source": [
    "# delete values \n",
    "# --del is keyword, remove() pop () is fuction \n",
    "a = [\"Apple\",\"Apple\", \"cat\", \"Fish\",\"Rat\", \"cat\", \"Fish\"]\n",
    "del a[0]\n",
    "print(a)"
   ]
  },
  {
   "cell_type": "code",
   "execution_count": 43,
   "id": "48becf75",
   "metadata": {},
   "outputs": [
    {
     "data": {
      "text/plain": [
       "['cat', 'Fish']"
      ]
     },
     "execution_count": 43,
     "metadata": {},
     "output_type": "execute_result"
    }
   ],
   "source": [
    "del a[0:4]\n",
    "a"
   ]
  },
  {
   "cell_type": "code",
   "execution_count": 45,
   "id": "98654d76",
   "metadata": {},
   "outputs": [
    {
     "data": {
      "text/plain": [
       "[0, 1, 2, 3, 4, 6, 7, 8, 9]"
      ]
     },
     "execution_count": 45,
     "metadata": {},
     "output_type": "execute_result"
    }
   ],
   "source": [
    "# remove(), index bujdaina, \n",
    "a=[0,1,2,3,4,5,6,7,8,9]\n",
    "a.remove(5)\n",
    "a"
   ]
  },
  {
   "cell_type": "code",
   "execution_count": 48,
   "id": "95b654ef",
   "metadata": {},
   "outputs": [
    {
     "data": {
      "text/plain": [
       "['Ball', 'cat', 'Apple']"
      ]
     },
     "execution_count": 48,
     "metadata": {},
     "output_type": "execute_result"
    }
   ],
   "source": [
    "a = [\"Apple\", \"Ball\", \"cat\",\"Apple\"]\n",
    "a.remove(\"Apple\")\n",
    "a"
   ]
  },
  {
   "cell_type": "code",
   "execution_count": 49,
   "id": "8469789b",
   "metadata": {},
   "outputs": [
    {
     "name": "stdout",
     "output_type": "stream",
     "text": [
      "['cat', 'Fish', 'Rat', 'cat', 'Fish']\n"
     ]
    }
   ],
   "source": [
    "a = [\"Apple\",\"Apple\", \"cat\", \"Fish\",\"Rat\", \"cat\", \"Fish\"]\n",
    "c=a.count(\"Apple\")\n",
    "for i in range(c):\n",
    "    a.remove(\"Apple\")\n",
    "print(a)"
   ]
  },
  {
   "cell_type": "code",
   "execution_count": 50,
   "id": "96044b60",
   "metadata": {},
   "outputs": [
    {
     "name": "stdout",
     "output_type": "stream",
     "text": [
      "['Apple', 'cat', 'Fish', 'Rat', 'cat', 'Fish']\n"
     ]
    }
   ],
   "source": [
    "# Pop() (del is almost same )\n",
    "a = [\"Apple\",\"Apple\", \"cat\", \"Fish\",\"Rat\", \"cat\", \"Fish\"]\n",
    "a.pop(0)\n",
    "print(a)"
   ]
  },
  {
   "cell_type": "code",
   "execution_count": null,
   "id": "ba72290e",
   "metadata": {},
   "outputs": [],
   "source": [
    "# each and every squence haru milera strings banxa \n",
    "# coma le seperate garxa list ma "
   ]
  },
  {
   "cell_type": "code",
   "execution_count": 2,
   "id": "04655758",
   "metadata": {},
   "outputs": [
    {
     "data": {
      "text/plain": [
       "[[1, 2, 3], [4, 5, 6], [7, 8, 9]]"
      ]
     },
     "execution_count": 2,
     "metadata": {},
     "output_type": "execute_result"
    }
   ],
   "source": [
    "# list indise list (nested list)\n",
    "a = [[1,2,3],\n",
    "    [4,5,6],\n",
    "    [7,8,9]]\n",
    "a\n"
   ]
  },
  {
   "cell_type": "code",
   "execution_count": 3,
   "id": "1b052289",
   "metadata": {},
   "outputs": [
    {
     "data": {
      "text/plain": [
       "[7, 8, 9]"
      ]
     },
     "execution_count": 3,
     "metadata": {},
     "output_type": "execute_result"
    }
   ],
   "source": [
    "a[2]\n"
   ]
  },
  {
   "cell_type": "code",
   "execution_count": 4,
   "id": "1d85a934",
   "metadata": {},
   "outputs": [
    {
     "data": {
      "text/plain": [
       "1"
      ]
     },
     "execution_count": 4,
     "metadata": {},
     "output_type": "execute_result"
    }
   ],
   "source": [
    "a[0][0]"
   ]
  },
  {
   "cell_type": "code",
   "execution_count": 7,
   "id": "dd8d378e",
   "metadata": {},
   "outputs": [
    {
     "name": "stdout",
     "output_type": "stream",
     "text": [
      "Ram\n"
     ]
    }
   ],
   "source": [
    "a=[[\"Ram\",34,\"Kathmandu\"],\n",
    "   [\"Shyam\", 23, \"Bhaktapur\"],\n",
    "   [\"Hari\", 67, \"Lalitpur\"]]\n",
    "a[0]\n",
    "print(a[0][0])"
   ]
  },
  {
   "cell_type": "code",
   "execution_count": 6,
   "id": "b71cd620",
   "metadata": {},
   "outputs": [
    {
     "data": {
      "text/plain": [
       "['Hari', 67, 'Lalitpur']"
      ]
     },
     "execution_count": 6,
     "metadata": {},
     "output_type": "execute_result"
    }
   ],
   "source": [
    "a[2]"
   ]
  },
  {
   "cell_type": "code",
   "execution_count": 1,
   "id": "04720ef5",
   "metadata": {},
   "outputs": [
    {
     "name": "stdout",
     "output_type": "stream",
     "text": [
      "Ener n = 2\n",
      "Enter name= Ram\n",
      "Enter age = 34\n",
      "Enter add= Kathmandu\n",
      "Enter name= Hari\n",
      "Enter age = 67\n",
      "Enter add= Lalitpur\n",
      "[['Ram', 34, 'Kathmandu'], ['Hari', 67, 'Lalitpur']]\n"
     ]
    }
   ],
   "source": [
    "l=[]\n",
    "n=int(input('Ener n = '))\n",
    "for i in range(n):\n",
    "    name = input('Enter name= ')\n",
    "    age= int(input('Enter age = '))\n",
    "    add= input('Enter add= ')\n",
    "    info=[name, age, add]\n",
    "    l.append(info)\n",
    "\n",
    "print(l)"
   ]
  },
  {
   "cell_type": "code",
   "execution_count": 15,
   "id": "347220b6",
   "metadata": {},
   "outputs": [
    {
     "data": {
      "text/plain": [
       "[['Nabin', 20, 'Jhapa']]"
      ]
     },
     "execution_count": 15,
     "metadata": {},
     "output_type": "execute_result"
    }
   ],
   "source": [
    "a=[[\"Ram\",34,\"Kathmandu\"],\n",
    "   [\"Shyam\", 23, \"Bhaktapur\"],\n",
    "   [\"Hari\", 67, \"Lalitpur\"]]\n",
    "# add new value \n",
    "l.append([\"Nabin\", 20, \"Jhapa\"])\n",
    "l"
   ]
  },
  {
   "cell_type": "code",
   "execution_count": 16,
   "id": "9a606964",
   "metadata": {},
   "outputs": [
    {
     "data": {
      "text/plain": [
       "[['Ram', 34, 'Chitwan']]"
      ]
     },
     "execution_count": 16,
     "metadata": {},
     "output_type": "execute_result"
    }
   ],
   "source": [
    "# update value \n",
    "l[0]= [\"Ram\", 34, \"Chitwan\"]\n",
    "l"
   ]
  },
  {
   "cell_type": "code",
   "execution_count": 18,
   "id": "ff9f1d83",
   "metadata": {},
   "outputs": [
    {
     "data": {
      "text/plain": [
       "[['Ram Prasad', 3, 'kathmandu']]"
      ]
     },
     "execution_count": 18,
     "metadata": {},
     "output_type": "execute_result"
    }
   ],
   "source": [
    "l[0][0]= \"Ram Prasad\"\n",
    "l"
   ]
  },
  {
   "cell_type": "code",
   "execution_count": 22,
   "id": "6ff7c2aa",
   "metadata": {},
   "outputs": [
    {
     "ename": "IndexError",
     "evalue": "list assignment index out of range",
     "output_type": "error",
     "traceback": [
      "\u001b[1;31m---------------------------------------------------------------------------\u001b[0m",
      "\u001b[1;31mIndexError\u001b[0m                                Traceback (most recent call last)",
      "Cell \u001b[1;32mIn[22], line 2\u001b[0m\n\u001b[0;32m      1\u001b[0m \u001b[38;5;66;03m# delete \u001b[39;00m\n\u001b[1;32m----> 2\u001b[0m \u001b[38;5;28;01mdel\u001b[39;00m l[\u001b[38;5;241m0\u001b[39m]\n\u001b[0;32m      3\u001b[0m l\n",
      "\u001b[1;31mIndexError\u001b[0m: list assignment index out of range"
     ]
    }
   ],
   "source": [
    "# delete \n",
    "del l[0]\n",
    "l"
   ]
  },
  {
   "cell_type": "code",
   "execution_count": 32,
   "id": "b573dc2a",
   "metadata": {},
   "outputs": [
    {
     "name": "stdout",
     "output_type": "stream",
     "text": [
      "Enter name= Ram\n",
      "['Ram', 34, 'Kathmandu']\n"
     ]
    }
   ],
   "source": [
    "# WAC (Classwork)\n",
    "data =[[\"Ram\",34,\"Kathmandu\"],\n",
    "      [\"Shyam\", 23, \"Bhaktapur\"],\n",
    "      [\"Hari\", 67, \"Lalitpur\"]]\n",
    "name= input(\"Enter name= \")\n",
    "for i in data:\n",
    "    if i[0]==name:\n",
    "        print(i)"
   ]
  },
  {
   "cell_type": "code",
   "execution_count": 38,
   "id": "393fb7ba",
   "metadata": {},
   "outputs": [
    {
     "name": "stdout",
     "output_type": "stream",
     "text": [
      "Enter name= Ram\n",
      "['Ram', 34, 'Kathmandu']\n",
      "RECORDS FOUND\n",
      "1 no of rows found\n"
     ]
    }
   ],
   "source": [
    "# WAP (Classwork)\n",
    "c=0\n",
    "data =[[\"Ram\",34,\"Kathmandu\"],\n",
    "      [\"Shyam\", 23, \"Bhaktapur\"],\n",
    "      [\"Hari\", 67, \"Lalitpur\"]]\n",
    "name= input(\"Enter name= \")\n",
    "for i in data:\n",
    "    if i[0]==name:\n",
    "        print(i)\n",
    "        c=c+1\n",
    "if c==0:\n",
    "    print(\"Name not found\")\n",
    "else:\n",
    "    print(c,\"no of rows found\")"
   ]
  },
  {
   "cell_type": "code",
   "execution_count": 39,
   "id": "2607d2a1",
   "metadata": {},
   "outputs": [
    {
     "name": "stdout",
     "output_type": "stream",
     "text": [
      "Yes\n",
      "1\n"
     ]
    }
   ],
   "source": [
    "a=[\" Ram\",\"Shyam\", \"Hari\",\"Ram\"]\n",
    "if \"Ram\" in a:\n",
    "    print(\"Yes\")\n",
    "    print(a.count(\"Ram\"))\n",
    "else:\n",
    "    print(\"No such name\")"
   ]
  },
  {
   "cell_type": "code",
   "execution_count": 40,
   "id": "3f9a069e",
   "metadata": {},
   "outputs": [
    {
     "name": "stdout",
     "output_type": "stream",
     "text": [
      "Enter name= ram\n",
      "['Ram', 34, 'Kathmandu']\n",
      "1 no of rows found\n"
     ]
    }
   ],
   "source": [
    "c=0\n",
    "data =[[\"Ram\",34,\"Kathmandu\"],\n",
    "      [\"Shyam\", 23, \"Bhaktapur\"],\n",
    "      [\"Hari\", 67, \"Lalitpur\"]]\n",
    "name= input(\"Enter name= \")\n",
    "for i in data:\n",
    "    if i[0].lower()==name.lower():\n",
    "        print(i)\n",
    "        c=c+1\n",
    "if c==0:\n",
    "    print(\"Name not found\")\n",
    "else:\n",
    "    print(c,\"no of rows found\")"
   ]
  },
  {
   "cell_type": "code",
   "execution_count": 42,
   "id": "74098309",
   "metadata": {},
   "outputs": [],
   "source": [
    "# WAP to create matrix taking no of rows, colmns, and data as input.\n",
    "# WAP to convert string into list inside list, \n",
    "# eg--apple 300 1 300 \n",
    "#     Banana 200 2 400 \n",
    "#         to\n",
    "# [[\"Apple\", 30, 300 ]]\n",
    "# [[\"Banana\", 2, 400]]\n",
    "\n",
    "# hint : Split function use garera try garne string into list inside list."
   ]
  },
  {
   "cell_type": "code",
   "execution_count": null,
   "id": "f8f73054",
   "metadata": {},
   "outputs": [],
   "source": [
    "# WAP to create result management in list inside list and perform CRUD"
   ]
  },
  {
   "cell_type": "code",
   "execution_count": null,
   "id": "bf1f2709",
   "metadata": {},
   "outputs": [],
   "source": []
  }
 ],
 "metadata": {
  "kernelspec": {
   "display_name": "Python 3 (ipykernel)",
   "language": "python",
   "name": "python3"
  },
  "language_info": {
   "codemirror_mode": {
    "name": "ipython",
    "version": 3
   },
   "file_extension": ".py",
   "mimetype": "text/x-python",
   "name": "python",
   "nbconvert_exporter": "python",
   "pygments_lexer": "ipython3",
   "version": "3.11.3"
  }
 },
 "nbformat": 4,
 "nbformat_minor": 5
}
