{
 "cells": [
  {
   "cell_type": "markdown",
   "id": "9114a3ce",
   "metadata": {},
   "source": [
    "# Set"
   ]
  },
  {
   "cell_type": "code",
   "execution_count": null,
   "id": "64415f4d",
   "metadata": {},
   "outputs": [],
   "source": [
    "# set pani rarely use hunxa\n",
    "# - No indexing (indexing support gardaina)\n",
    "# multiple value but no duplicate value \n",
    "# Unordered\n",
    "# Mutable (values can be changed)\n",
    "# mathematics types ko set nai ho, "
   ]
  },
  {
   "cell_type": "code",
   "execution_count": 1,
   "id": "13a962e0",
   "metadata": {},
   "outputs": [
    {
     "name": "stdout",
     "output_type": "stream",
     "text": [
      "<class 'set'>\n",
      "{0, 1, 2, 3, 4, 5, 6, 7, 8, 9}\n"
     ]
    }
   ],
   "source": [
    "s={1,2,3,4,5,6,7,8,9,0}\n",
    "print(type(s))\n",
    "print(s)"
   ]
  },
  {
   "cell_type": "code",
   "execution_count": null,
   "id": "0ee27bec",
   "metadata": {},
   "outputs": [],
   "source": [
    "# bujnu parne kura\n",
    "# indexing support gardaina \n"
   ]
  },
  {
   "cell_type": "code",
   "execution_count": 2,
   "id": "e6feeec4",
   "metadata": {},
   "outputs": [
    {
     "data": {
      "text/plain": [
       "set()"
      ]
     },
     "execution_count": 2,
     "metadata": {},
     "output_type": "execute_result"
    }
   ],
   "source": [
    "a = set()\n",
    "a"
   ]
  },
  {
   "cell_type": "code",
   "execution_count": 1,
   "id": "2c7ea588",
   "metadata": {},
   "outputs": [
    {
     "name": "stdout",
     "output_type": "stream",
     "text": [
      "{'Cow', 'Goat', 'Fish', 'Cat', 'Apple', 'Ball'}\n"
     ]
    },
    {
     "data": {
      "text/plain": [
       "{'Apple', 'Ball', 'Cat', 'Cow', 'Fish', 'Goat'}"
      ]
     },
     "execution_count": 1,
     "metadata": {},
     "output_type": "execute_result"
    }
   ],
   "source": [
    "a={\"Apple\", \"Ball\", \"Cat\", \"Fish\", \"Cow\", \"Goat\"}\n",
    "print(a)\n",
    "a"
   ]
  },
  {
   "cell_type": "code",
   "execution_count": 4,
   "id": "3f94c2dc",
   "metadata": {},
   "outputs": [],
   "source": [
    "# collection ko uique values, unordered data type ho jata pani rahana sakxa \n",
    "# randomly save hunxa \n"
   ]
  },
  {
   "cell_type": "code",
   "execution_count": 1,
   "id": "0a73b752",
   "metadata": {},
   "outputs": [
    {
     "name": "stdout",
     "output_type": "stream",
     "text": [
      "Ball Cat Apple Fish Goat Cow "
     ]
    }
   ],
   "source": [
    "a={\"Apple\", \"Ball\", \"Cat\", \"Fish\", \"Cow\", \"Goat\"}\n",
    "for i in a:\n",
    "    print(i, end= \" \")"
   ]
  },
  {
   "cell_type": "code",
   "execution_count": 4,
   "id": "2abd45eb",
   "metadata": {},
   "outputs": [
    {
     "data": {
      "text/plain": [
       "{'Apple', 'Ball', 'Cat', 'Cow', 'Fish', 'Goat'}"
      ]
     },
     "execution_count": 4,
     "metadata": {},
     "output_type": "execute_result"
    }
   ],
   "source": [
    "# set le duplicate value lidaina \n",
    "a={\"Apple\", \"Ball\", \"Cat\", \"Fish\", \"Cow\", \"Goat\",\"Apple\", \"Ball\", \"Cat\"}\n",
    "a"
   ]
  },
  {
   "cell_type": "code",
   "execution_count": null,
   "id": "da1bd981",
   "metadata": {},
   "outputs": [],
   "source": [
    "# benefits of set \n",
    "# two or more than two value lai find out garna milxa like:\n",
    "# union, intersection \n",
    "# array ma values haru maintain, commonness garna paryo, set use hunxa \n"
   ]
  },
  {
   "cell_type": "code",
   "execution_count": null,
   "id": "690fef69",
   "metadata": {},
   "outputs": [],
   "source": [
    "# for example \n",
    "# add garne, fuction \n",
    "# add()\n",
    "# remove()\n",
    "# update\n",
    "# these fuctions we can use for creation in sets "
   ]
  },
  {
   "cell_type": "code",
   "execution_count": 5,
   "id": "a0b4741d",
   "metadata": {},
   "outputs": [
    {
     "data": {
      "text/plain": [
       "{'Apple', 'Ball', 'Cat'}"
      ]
     },
     "execution_count": 5,
     "metadata": {},
     "output_type": "execute_result"
    }
   ],
   "source": [
    "s=set()\n",
    "s.add(\"Apple\")\n",
    "s.add(\"Ball\")\n",
    "s.add(\"Cat\")\n",
    "s"
   ]
  },
  {
   "cell_type": "code",
   "execution_count": 6,
   "id": "37aa6f86",
   "metadata": {},
   "outputs": [
    {
     "data": {
      "text/plain": [
       "{1, 2, 3, 4, 5, 6, 'Apple', 'Ball', 'Cat'}"
      ]
     },
     "execution_count": 6,
     "metadata": {},
     "output_type": "execute_result"
    }
   ],
   "source": [
    "a={\"Apple\", \"Ball\", \"Cat\"}\n",
    "b={1,2,3,4,5,6}\n",
    "a.update(b)\n",
    "a"
   ]
  },
  {
   "cell_type": "code",
   "execution_count": null,
   "id": "f4cd2055",
   "metadata": {},
   "outputs": [],
   "source": [
    " # main theme,\n",
    "# duplicate value\n",
    "# unordered \n",
    "# immutable data type"
   ]
  },
  {
   "cell_type": "code",
   "execution_count": null,
   "id": "9d11eeaa",
   "metadata": {},
   "outputs": [],
   "source": [
    "# set ma use hune fuctions \n",
    "# intersection()\n",
    "# union()\n",
    "# difference() "
   ]
  },
  {
   "cell_type": "code",
   "execution_count": 8,
   "id": "a63cf7e3",
   "metadata": {},
   "outputs": [
    {
     "data": {
      "text/plain": [
       "{'C++', 'Django', 'HTML', 'Python'}"
      ]
     },
     "execution_count": 8,
     "metadata": {},
     "output_type": "execute_result"
    }
   ],
   "source": [
    "# this is intersection (commonm value)\n",
    "skills = {'Python','HTML', 'Django', 'JS', 'C++'}\n",
    "job={'Python', 'Django','HTML', 'css', 'C++', 'ç','Java'}\n",
    "skills.intersection(job)"
   ]
  },
  {
   "cell_type": "code",
   "execution_count": 11,
   "id": "e7819166",
   "metadata": {},
   "outputs": [
    {
     "data": {
      "text/plain": [
       "{'C++', 'Django', 'HTML', 'JS', 'Java', 'Python', 'css', 'ç'}"
      ]
     },
     "execution_count": 11,
     "metadata": {},
     "output_type": "execute_result"
    }
   ],
   "source": [
    "# this is union\n",
    "skills = {'Python','HTML', 'Django', 'JS', 'C++'}\n",
    "job={'Python', 'Django','HTML', 'css', 'C++', 'ç','Java'}\n",
    "skills.union(job)"
   ]
  },
  {
   "cell_type": "code",
   "execution_count": 13,
   "id": "264254d8",
   "metadata": {},
   "outputs": [
    {
     "data": {
      "text/plain": [
       "set()"
      ]
     },
     "execution_count": 13,
     "metadata": {},
     "output_type": "execute_result"
    }
   ],
   "source": [
    "# difference \n",
    "# skills in you but in job \n",
    "skills = {'Python','HTML', 'Django','JS','C++'}\n",
    "job={'Python', 'Django','HTML', 'css', 'C++', 'ç','Java'}\n",
    "skills.difference(job)"
   ]
  },
  {
   "cell_type": "code",
   "execution_count": 14,
   "id": "69169115",
   "metadata": {},
   "outputs": [
    {
     "data": {
      "text/plain": [
       "{'Java', 'css', 'ç'}"
      ]
     },
     "execution_count": 14,
     "metadata": {},
     "output_type": "execute_result"
    }
   ],
   "source": [
    "skills = {'Python','HTML', 'Django','JS','C++'}\n",
    "job={'Python', 'Django','HTML', 'css', 'C++', 'ç','Java'}\n",
    "job.difference(skills)"
   ]
  },
  {
   "cell_type": "code",
   "execution_count": null,
   "id": "1a3ef510",
   "metadata": {},
   "outputs": [],
   "source": [
    "# Wap to create a set taking values from users (add fuction use garne)"
   ]
  },
  {
   "cell_type": "code",
   "execution_count": null,
   "id": "993c249c",
   "metadata": {},
   "outputs": [],
   "source": [
    "# note:\n",
    "# set vitra kaile pani array hudaina, most of time, unique data nai hunxa most of time\n",
    "# no mutable data type inside set\n",
    "# inside set no list , dict, even set is mutable \n",
    "# set vitra only tuple exsits hunxa \n"
   ]
  },
  {
   "cell_type": "code",
   "execution_count": 2,
   "id": "442983da",
   "metadata": {
    "scrolled": true
   },
   "outputs": [
    {
     "ename": "TypeError",
     "evalue": "unhashable type: 'list'",
     "output_type": "error",
     "traceback": [
      "\u001b[1;31m---------------------------------------------------------------------------\u001b[0m",
      "\u001b[1;31mTypeError\u001b[0m                                 Traceback (most recent call last)",
      "Cell \u001b[1;32mIn[2], line 2\u001b[0m\n\u001b[0;32m      1\u001b[0m \u001b[38;5;66;03m# for example\u001b[39;00m\n\u001b[1;32m----> 2\u001b[0m s\u001b[38;5;241m=\u001b[39m{[\u001b[38;5;241m1\u001b[39m,\u001b[38;5;241m2\u001b[39m,\u001b[38;5;241m3\u001b[39m],[\u001b[38;5;241m4\u001b[39m,\u001b[38;5;241m5\u001b[39m,\u001b[38;5;241m6\u001b[39m]}\n\u001b[0;32m      3\u001b[0m s\n",
      "\u001b[1;31mTypeError\u001b[0m: unhashable type: 'list'"
     ]
    }
   ],
   "source": [
    "# for example\n",
    "s={[1,2,3],[4,5,6]}\n",
    "s\n",
    "# set inside set exsits huna sakdaina"
   ]
  },
  {
   "cell_type": "code",
   "execution_count": 4,
   "id": "e9484c98",
   "metadata": {},
   "outputs": [
    {
     "data": {
      "text/plain": [
       "{(1, 2, 3), (4, 5, 6)}"
      ]
     },
     "execution_count": 4,
     "metadata": {},
     "output_type": "execute_result"
    }
   ],
   "source": [
    "# set vitra only tuple exsits hunxa \n",
    "s={(1,2,3),(4,5,6)}\n",
    "s"
   ]
  },
  {
   "cell_type": "code",
   "execution_count": null,
   "id": "4188238e",
   "metadata": {},
   "outputs": [],
   "source": []
  }
 ],
 "metadata": {
  "kernelspec": {
   "display_name": "Python 3 (ipykernel)",
   "language": "python",
   "name": "python3"
  },
  "language_info": {
   "codemirror_mode": {
    "name": "ipython",
    "version": 3
   },
   "file_extension": ".py",
   "mimetype": "text/x-python",
   "name": "python",
   "nbconvert_exporter": "python",
   "pygments_lexer": "ipython3",
   "version": "3.11.3"
  }
 },
 "nbformat": 4,
 "nbformat_minor": 5
}
