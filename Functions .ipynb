{
 "cells": [
  {
   "cell_type": "markdown",
   "id": "07d94dc5",
   "metadata": {},
   "source": [
    "Function"
   ]
  },
  {
   "cell_type": "code",
   "execution_count": null,
   "id": "b326e9d2",
   "metadata": {},
   "outputs": [],
   "source": [
    "# string, int, float, bulean haru basics data type ho \n",
    "# structured way ma banaune kaam fuction le garxa , systematic way ma hunxa "
   ]
  },
  {
   "cell_type": "code",
   "execution_count": null,
   "id": "233abc98",
   "metadata": {},
   "outputs": [],
   "source": [
    "# kunai pani code lai afno, necessity anusar execute garne "
   ]
  },
  {
   "cell_type": "code",
   "execution_count": null,
   "id": "9533bca9",
   "metadata": {},
   "outputs": [],
   "source": [
    "# there are two types of fuctions \n",
    "# Predefined fuction \n",
    "# print() type() list() tuple () dict() set() bool() str()\n",
    "# User defined fuction\n",
    "# def <function_name>():\n",
    "#     <operation>\n",
    "\n",
    "# <fuction_name>()\n",
    "    "
   ]
  },
  {
   "cell_type": "code",
   "execution_count": 2,
   "id": "cd82e1b0",
   "metadata": {},
   "outputs": [
    {
     "name": "stdout",
     "output_type": "stream",
     "text": [
      "Hello world\n"
     ]
    }
   ],
   "source": [
    "def hello():\n",
    "    print('Hello world')\n",
    "    \n",
    "hello()"
   ]
  },
  {
   "cell_type": "code",
   "execution_count": 3,
   "id": "5545868c",
   "metadata": {},
   "outputs": [
    {
     "name": "stdout",
     "output_type": "stream",
     "text": [
      "Enter l = 20\n",
      "Enter b = 25\n",
      "Enter h = 30\n",
      "500\n",
      "25\n"
     ]
    }
   ],
   "source": [
    "# basic example \n",
    "def cal():\n",
    "    l=int(input('Enter l = '))                    \n",
    "    b=int(input('Enter b = '))\n",
    "    h = int(input('Enter h = '))\n",
    "    a=l*b\n",
    "    print(a)\n",
    "    print(b)\n",
    "\n",
    "cal()\n",
    "\n",
    "# l,b,h are local variable "
   ]
  },
  {
   "cell_type": "code",
   "execution_count": 4,
   "id": "f00c505f",
   "metadata": {},
   "outputs": [],
   "source": [
    "# application oriented ma kaam garda fuction use hunxa "
   ]
  },
  {
   "cell_type": "code",
   "execution_count": 8,
   "id": "7a52afbc",
   "metadata": {},
   "outputs": [
    {
     "ename": "KeyboardInterrupt",
     "evalue": "Interrupted by user",
     "output_type": "error",
     "traceback": [
      "\u001b[1;31m---------------------------------------------------------------------------\u001b[0m",
      "\u001b[1;31mKeyboardInterrupt\u001b[0m                         Traceback (most recent call last)",
      "Cell \u001b[1;32mIn[8], line 2\u001b[0m\n\u001b[0;32m      1\u001b[0m \u001b[38;5;66;03m# Global variable \u001b[39;00m\n\u001b[1;32m----> 2\u001b[0m l\u001b[38;5;241m=\u001b[39m\u001b[38;5;28mint\u001b[39m(\u001b[38;5;28minput\u001b[39m(\u001b[38;5;124m'\u001b[39m\u001b[38;5;124mEnter l = \u001b[39m\u001b[38;5;124m'\u001b[39m))                    \n\u001b[0;32m      3\u001b[0m b\u001b[38;5;241m=\u001b[39m\u001b[38;5;28mint\u001b[39m(\u001b[38;5;28minput\u001b[39m(\u001b[38;5;124m'\u001b[39m\u001b[38;5;124mEnter b = \u001b[39m\u001b[38;5;124m'\u001b[39m))\n\u001b[0;32m      4\u001b[0m h \u001b[38;5;241m=\u001b[39m \u001b[38;5;28mint\u001b[39m(\u001b[38;5;28minput\u001b[39m(\u001b[38;5;124m'\u001b[39m\u001b[38;5;124mEnter h = \u001b[39m\u001b[38;5;124m'\u001b[39m))\n",
      "File \u001b[1;32m~\\AppData\\Local\\anaconda3\\Lib\\site-packages\\ipykernel\\kernelbase.py:1175\u001b[0m, in \u001b[0;36mKernel.raw_input\u001b[1;34m(self, prompt)\u001b[0m\n\u001b[0;32m   1171\u001b[0m \u001b[38;5;28;01mif\u001b[39;00m \u001b[38;5;129;01mnot\u001b[39;00m \u001b[38;5;28mself\u001b[39m\u001b[38;5;241m.\u001b[39m_allow_stdin:\n\u001b[0;32m   1172\u001b[0m     \u001b[38;5;28;01mraise\u001b[39;00m StdinNotImplementedError(\n\u001b[0;32m   1173\u001b[0m         \u001b[38;5;124m\"\u001b[39m\u001b[38;5;124mraw_input was called, but this frontend does not support input requests.\u001b[39m\u001b[38;5;124m\"\u001b[39m\n\u001b[0;32m   1174\u001b[0m     )\n\u001b[1;32m-> 1175\u001b[0m \u001b[38;5;28;01mreturn\u001b[39;00m \u001b[38;5;28mself\u001b[39m\u001b[38;5;241m.\u001b[39m_input_request(\n\u001b[0;32m   1176\u001b[0m     \u001b[38;5;28mstr\u001b[39m(prompt),\n\u001b[0;32m   1177\u001b[0m     \u001b[38;5;28mself\u001b[39m\u001b[38;5;241m.\u001b[39m_parent_ident[\u001b[38;5;124m\"\u001b[39m\u001b[38;5;124mshell\u001b[39m\u001b[38;5;124m\"\u001b[39m],\n\u001b[0;32m   1178\u001b[0m     \u001b[38;5;28mself\u001b[39m\u001b[38;5;241m.\u001b[39mget_parent(\u001b[38;5;124m\"\u001b[39m\u001b[38;5;124mshell\u001b[39m\u001b[38;5;124m\"\u001b[39m),\n\u001b[0;32m   1179\u001b[0m     password\u001b[38;5;241m=\u001b[39m\u001b[38;5;28;01mFalse\u001b[39;00m,\n\u001b[0;32m   1180\u001b[0m )\n",
      "File \u001b[1;32m~\\AppData\\Local\\anaconda3\\Lib\\site-packages\\ipykernel\\kernelbase.py:1217\u001b[0m, in \u001b[0;36mKernel._input_request\u001b[1;34m(self, prompt, ident, parent, password)\u001b[0m\n\u001b[0;32m   1214\u001b[0m             \u001b[38;5;28;01mbreak\u001b[39;00m\n\u001b[0;32m   1215\u001b[0m \u001b[38;5;28;01mexcept\u001b[39;00m \u001b[38;5;167;01mKeyboardInterrupt\u001b[39;00m:\n\u001b[0;32m   1216\u001b[0m     \u001b[38;5;66;03m# re-raise KeyboardInterrupt, to truncate traceback\u001b[39;00m\n\u001b[1;32m-> 1217\u001b[0m     \u001b[38;5;28;01mraise\u001b[39;00m \u001b[38;5;167;01mKeyboardInterrupt\u001b[39;00m(\u001b[38;5;124m\"\u001b[39m\u001b[38;5;124mInterrupted by user\u001b[39m\u001b[38;5;124m\"\u001b[39m) \u001b[38;5;28;01mfrom\u001b[39;00m \u001b[38;5;28;01mNone\u001b[39;00m\n\u001b[0;32m   1218\u001b[0m \u001b[38;5;28;01mexcept\u001b[39;00m \u001b[38;5;167;01mException\u001b[39;00m:\n\u001b[0;32m   1219\u001b[0m     \u001b[38;5;28mself\u001b[39m\u001b[38;5;241m.\u001b[39mlog\u001b[38;5;241m.\u001b[39mwarning(\u001b[38;5;124m\"\u001b[39m\u001b[38;5;124mInvalid Message:\u001b[39m\u001b[38;5;124m\"\u001b[39m, exc_info\u001b[38;5;241m=\u001b[39m\u001b[38;5;28;01mTrue\u001b[39;00m)\n",
      "\u001b[1;31mKeyboardInterrupt\u001b[0m: Interrupted by user"
     ]
    }
   ],
   "source": [
    "# Global variable \n",
    "l=int(input('Enter l = '))                    \n",
    "b=int(input('Enter b = '))\n",
    "h = int(input('Enter h = '))\n",
    "\n",
    "def cal():\n",
    "#     global a,v\n",
    "     a=l*b\n",
    "     v=a*h\n",
    "     print(a)\n",
    "     print(v)\n",
    "\n",
    "cal()\n"
   ]
  },
  {
   "cell_type": "code",
   "execution_count": null,
   "id": "db0d1b7b",
   "metadata": {},
   "outputs": [],
   "source": [
    "#  global value haru, certain value haru, choto kisim ko value, memory dherai na line wala "
   ]
  },
  {
   "cell_type": "code",
   "execution_count": null,
   "id": "615beaf1",
   "metadata": {},
   "outputs": [],
   "source": [
    "# fuction without argument and  no return types \n",
    "# fuction with argument and return types \n",
    "# fuction without argument and return types \n",
    "# fuction without argument and return types \n",
    "# fuction with argument and return types \n"
   ]
  },
  {
   "cell_type": "code",
   "execution_count": null,
   "id": "97b78aa2",
   "metadata": {},
   "outputs": [],
   "source": [
    "# fuction without argument and  no return types \n",
    "def cal():\n",
    "    l=int(input('Enter l = '))                    \n",
    "    b=int(input('Enter b = '))\n",
    "    h = int(input('Enter h = '))\n",
    "    a=l*b\n",
    "    print(a)\n",
    "    print(b)\n",
    "\n",
    "\n",
    "#certain value lai carry garera lera jane lai argument vanxa, define gareko hunu parxa \n",
    "# carry garera lera gako value, "
   ]
  },
  {
   "cell_type": "code",
   "execution_count": null,
   "id": "61eb002f",
   "metadata": {},
   "outputs": [],
   "source": [
    "# \n",
    "def cal():                         #parameter\n",
    "    a=l*b                          #local variable \n",
    "    b=a*h                          #local variable\n",
    "    print(a)             \n",
    "    print(b)                          \n",
    "\n",
    "l=int(input('Enter l = '))           #global variable              \n",
    "b=int(input('Enter b = '))           #global variable   \n",
    "h = int(input('Enter h = '))         #global variable   \n",
    "    \n",
    "cal()\n",
    "                                    # l.b.h are argument"
   ]
  },
  {
   "cell_type": "code",
   "execution_count": 9,
   "id": "1e395487",
   "metadata": {},
   "outputs": [
    {
     "ename": "SyntaxError",
     "evalue": "invalid syntax (375915146.py, line 5)",
     "output_type": "error",
     "traceback": [
      "\u001b[1;36m  Cell \u001b[1;32mIn[9], line 5\u001b[1;36m\u001b[0m\n\u001b[1;33m    def volume(l*b*h):\u001b[0m\n\u001b[1;37m                ^\u001b[0m\n\u001b[1;31mSyntaxError\u001b[0m\u001b[1;31m:\u001b[0m invalid syntax\n"
     ]
    }
   ],
   "source": [
    "def area(l,b):\n",
    "    a= l*b\n",
    "    print\n",
    "('Enter l = '))           #global variable              \n",
    "b=int(input('Enter b = '))           #global variable   \n",
    "h = int(input('Enter h = '))          #global variable \n",
    "\n",
    "area(l,b)\n",
    "volume(l,b,h)\n"
   ]
  },
  {
   "cell_type": "code",
   "execution_count": 11,
   "id": "da3ba46d",
   "metadata": {},
   "outputs": [
    {
     "name": "stdout",
     "output_type": "stream",
     "text": [
      "C\n",
      "C++\n",
      "Java\n",
      "CS\n",
      "Python\n"
     ]
    }
   ],
   "source": [
    "def language (lan='Python'):\n",
    "    print(lan)\n",
    "    \n",
    "language('C')\n",
    "language('C++')\n",
    "language('Java')\n",
    "language('CS')\n",
    "language()"
   ]
  },
  {
   "cell_type": "code",
   "execution_count": null,
   "id": "27600154",
   "metadata": {},
   "outputs": [],
   "source": [
    "# object oriented programming ---"
   ]
  },
  {
   "cell_type": "code",
   "execution_count": null,
   "id": "06115063",
   "metadata": {},
   "outputs": [],
   "source": []
  }
 ],
 "metadata": {
  "kernelspec": {
   "display_name": "Python 3 (ipykernel)",
   "language": "python",
   "name": "python3"
  },
  "language_info": {
   "codemirror_mode": {
    "name": "ipython",
    "version": 3
   },
   "file_extension": ".py",
   "mimetype": "text/x-python",
   "name": "python",
   "nbconvert_exporter": "python",
   "pygments_lexer": "ipython3",
   "version": "3.11.3"
  }
 },
 "nbformat": 4,
 "nbformat_minor": 5
}
