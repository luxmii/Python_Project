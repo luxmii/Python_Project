{
 "cells": [
  {
   "cell_type": "markdown",
   "id": "16234eda",
   "metadata": {},
   "source": [
    "Orientation object programming "
   ]
  },
  {
   "cell_type": "code",
   "execution_count": null,
   "id": "169f89ca",
   "metadata": {},
   "outputs": [],
   "source": [
    "# class Hello:\n",
    "#     <methods>\n",
    "#     <methods>\n",
    "#     <methods>\n",
    "    \n",
    "\n",
    "# obj = Hello()  \n",
    "# obj.<methods>\n",
    "# obj.<methods>\n",
    "# obj.<methods>\n"
   ]
  },
  {
   "cell_type": "code",
   "execution_count": 1,
   "id": "669a607c",
   "metadata": {},
   "outputs": [
    {
     "name": "stdout",
     "output_type": "stream",
     "text": [
      "Hello world\n"
     ]
    }
   ],
   "source": [
    "class Hello:                                      #class\n",
    "    def hello(self):                              #method\n",
    "        print('Hello world')\n",
    "                         \n",
    "obj = Hello()                                     #object                \n",
    "obj.hello()                                       #initializing the class "
   ]
  },
  {
   "cell_type": "code",
   "execution_count": null,
   "id": "7729c00c",
   "metadata": {},
   "outputs": [],
   "source": [
    "# \n",
    "class Hello:                                     #class\n",
    "    @staticmethod                                 #decorator\n",
    "    def hello(self):                              #method\n",
    "        print('Hello world')\n",
    "                         \n",
    "obj = Hello()                                     #object                \n",
    "obj.hello()                                       #initializing the class "
   ]
  }
 ],
 "metadata": {
  "kernelspec": {
   "display_name": "Python 3 (ipykernel)",
   "language": "python",
   "name": "python3"
  },
  "language_info": {
   "codemirror_mode": {
    "name": "ipython",
    "version": 3
   },
   "file_extension": ".py",
   "mimetype": "text/x-python",
   "name": "python",
   "nbconvert_exporter": "python",
   "pygments_lexer": "ipython3",
   "version": "3.11.3"
  }
 },
 "nbformat": 4,
 "nbformat_minor": 5
}
